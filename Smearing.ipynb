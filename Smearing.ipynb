{
 "cells": [
  {
   "cell_type": "markdown",
   "metadata": {},
   "source": [
    "## This notebook does some toy MC study to check what is the impact of resolution on azimuthal asymmetries. It generates a distribution that follows a sin function and then adds some gaussian noise. The decrease in height of the sin function is an estimate of the \"dilution factor\""
   ]
  },
  {
   "cell_type": "code",
   "execution_count": 1,
   "metadata": {},
   "outputs": [],
   "source": [
    "from scipy.stats import cosine, norm, uniform\n",
    "import matplotlib.pyplot as plt\n",
    "import numpy as np\n",
    "import pandas as pd"
   ]
  },
  {
   "cell_type": "code",
   "execution_count": 48,
   "metadata": {},
   "outputs": [],
   "source": [
    "pseudodata = cosine(np.pi/2.0).rvs(size=100000) #sin\n",
    "#pseudodata = cosine(np.pi/2.0).rvs(size=100000) #sin\n",
    "\n",
    "pedestal = uniform(-np.pi/2.0, 2.0*np.pi).rvs(size=10000) #sin\n",
    "\n",
    "smear = norm(0,0.3).rvs(size=100000)"
   ]
  },
  {
   "cell_type": "code",
   "execution_count": 49,
   "metadata": {
    "scrolled": true
   },
   "outputs": [
    {
     "data": {
      "text/plain": [
       "(array([ 161.,  747., 1723., 2816., 4360., 5815., 7146., 8463., 9288.,\n",
       "        9645., 9701., 8999., 8353., 7170., 5765., 4386., 2875., 1699.,\n",
       "         738.,  150.]),\n",
       " array([-1.48523486, -1.1796288 , -0.87402275, -0.56841669, -0.26281063,\n",
       "         0.04279543,  0.34840149,  0.65400755,  0.95961361,  1.26521967,\n",
       "         1.57082573,  1.87643179,  2.18203785,  2.48764391,  2.79324996,\n",
       "         3.09885602,  3.40446208,  3.71006814,  4.0156742 ,  4.32128026,\n",
       "         4.62688632]),\n",
       " <a list of 1 Patch objects>)"
      ]
     },
     "execution_count": 49,
     "metadata": {},
     "output_type": "execute_result"
    },
    {
     "data": {
      "image/png": "[encoded data removed]",
      "text/plain": [
       "<matplotlib.figure.Figure at 0x7f8d44385850>"
      ]
     },
     "metadata": {
      "needs_background": "light"
     },
     "output_type": "display_data"
    }
   ],
   "source": [
    "plt.hist(pedestal, histtype='stepfilled', alpha=0.2,bins=20)\n",
    "\n",
    "plt.hist(smear, histtype='stepfilled', alpha=0.2,bins=20)\n",
    "plt.hist(pseudodata, histtype='stepfilled', alpha=0.2,bins=20)"
   ]
  },
  {
   "cell_type": "code",
   "execution_count": 51,
   "metadata": {},
   "outputs": [
    {
     "name": "stdout",
     "output_type": "stream",
     "text": [
      "[1.53834808 1.06258958 0.9990017  0.98557875 0.97601684 0.98378631\n",
      " 0.98004322 1.00420168 1.04407583 1.55434783]\n"
     ]
    },
    {
     "data": {
      "text/plain": [
       "(0.0, 20413.4)"
      ]
     },
     "execution_count": 51,
     "metadata": {},
     "output_type": "execute_result"
    },
    {
     "data": {
      "image/png": "[encoded data removed]",
      "text/plain": [
       "<matplotlib.figure.Figure at 0x7f8d44eda650>"
      ]
     },
     "metadata": {
      "needs_background": "light"
     },
     "output_type": "display_data"
    }
   ],
   "source": [
    "smeared,x = np.histogram(pseudodata+smear,bins=10,range=(-np.pi/2.0, 1.5*np.pi))\n",
    "truth,x = np.histogram(pseudodata, bins=10,range=(-np.pi/2.0, 1.5*np.pi))\n",
    "\n",
    "#ped,x = np.histogram(pedestal, bins=20,range=(-np.pi/2.0, 1.5*np.pi))\n",
    "\n",
    "#smeared = smeared+ped\n",
    "#truth = truth+ped\n",
    "x = (x[1:]+x[:-1])/2\n",
    "\n",
    "\n",
    "plt.plot(x,smeared,'o',label='smeared')\n",
    "plt.plot(x,truth,'o',label='truth')\n",
    "\n",
    "print np.true_divide(smeared,truth)\n",
    "plt.ylim(bottom=0.0)"
   ]
  },
  {
   "cell_type": "code",
   "execution_count": 34,
   "metadata": {},
   "outputs": [
    {
     "data": {
      "text/plain": [
       "(array([  2.,   7.,   2.,   2.,   6.,  13.,  11.,   8.,  17.,  22.,  13.,\n",
       "         17.,  27.,  30.,  25.,  35.,  36.,  45.,  40.,  55.,  51.,  57.,\n",
       "         63.,  71.,  78.,  80., 119.,  95., 104., 134., 140., 120., 134.,\n",
       "        127., 161., 169., 186., 188., 189., 187., 188., 195., 243., 215.,\n",
       "        238., 219., 222., 213., 208., 212., 233., 236., 212., 206., 238.,\n",
       "        208., 239., 207., 210., 203., 211., 181., 153., 172., 161., 140.,\n",
       "        147., 132., 116., 122., 130.,  97.,  84.,  87.,  78.,  91.,  91.,\n",
       "         63.,  65.,  47.,  49.,  36.,  37.,  31.,  42.,  26.,  26.,  21.,\n",
       "         16.,  20.,  13.,  16.,  15.,   7.,   4.,   9.,   9.,   6.,   6.,\n",
       "          0.]),\n",
       " array([-1.57079633e+00, -1.50796447e+00, -1.44513262e+00, -1.38230077e+00,\n",
       "        -1.31946891e+00, -1.25663706e+00, -1.19380521e+00, -1.13097336e+00,\n",
       "        -1.06814150e+00, -1.00530965e+00, -9.42477796e-01, -8.79645943e-01,\n",
       "        -8.16814090e-01, -7.53982237e-01, -6.91150384e-01, -6.28318531e-01,\n",
       "        -5.65486678e-01, -5.02654825e-01, -4.39822972e-01, -3.76991118e-01,\n",
       "        -3.14159265e-01, -2.51327412e-01, -1.88495559e-01, -1.25663706e-01,\n",
       "        -6.28318531e-02,  2.22044605e-16,  6.28318531e-02,  1.25663706e-01,\n",
       "         1.88495559e-01,  2.51327412e-01,  3.14159265e-01,  3.76991118e-01,\n",
       "         4.39822972e-01,  5.02654825e-01,  5.65486678e-01,  6.28318531e-01,\n",
       "         6.91150384e-01,  7.53982237e-01,  8.16814090e-01,  8.79645943e-01,\n",
       "         9.42477796e-01,  1.00530965e+00,  1.06814150e+00,  1.13097336e+00,\n",
       "         1.19380521e+00,  1.25663706e+00,  1.31946891e+00,  1.38230077e+00,\n",
       "         1.44513262e+00,  1.50796447e+00,  1.57079633e+00,  1.63362818e+00,\n",
       "         1.69646003e+00,  1.75929189e+00,  1.82212374e+00,  1.88495559e+00,\n",
       "         1.94778745e+00,  2.01061930e+00,  2.07345115e+00,  2.13628300e+00,\n",
       "         2.19911486e+00,  2.26194671e+00,  2.32477856e+00,  2.38761042e+00,\n",
       "         2.45044227e+00,  2.51327412e+00,  2.57610598e+00,  2.63893783e+00,\n",
       "         2.70176968e+00,  2.76460154e+00,  2.82743339e+00,  2.89026524e+00,\n",
       "         2.95309709e+00,  3.01592895e+00,  3.07876080e+00,  3.14159265e+00,\n",
       "         3.20442451e+00,  3.26725636e+00,  3.33008821e+00,  3.39292007e+00,\n",
       "         3.45575192e+00,  3.51858377e+00,  3.58141563e+00,  3.64424748e+00,\n",
       "         3.70707933e+00,  3.76991118e+00,  3.83274304e+00,  3.89557489e+00,\n",
       "         3.95840674e+00,  4.02123860e+00,  4.08407045e+00,  4.14690230e+00,\n",
       "         4.20973416e+00,  4.27256601e+00,  4.33539786e+00,  4.39822972e+00,\n",
       "         4.46106157e+00,  4.52389342e+00,  4.58672527e+00,  4.64955713e+00,\n",
       "         4.71238898e+00]),\n",
       " <a list of 1 Patch objects>)"
      ]
     },
     "execution_count": 34,
     "metadata": {},
     "output_type": "execute_result"
    },
    {
     "data": {
      "image/png": "[encoded data removed]",
      "text/plain": [
       "<matplotlib.figure.Figure at 0x7f8d4536f810>"
      ]
     },
     "metadata": {
      "needs_background": "light"
     },
     "output_type": "display_data"
    }
   ],
   "source": [
    "#pedestal = uniform(np.pi/2.0).rvs(size=1000) #sin\n",
    "pseudodata = norm(np.pi/2.0,1.0).rvs(size=10000) #sin\n",
    "\n",
    "plt.hist(pseudodata, histtype='stepfilled', alpha=0.2,bins=100,range=(-np.pi/2.0, 1.5*np.pi))\n",
    "plt.hist(pseudodata+smear, histtype='stepfilled', alpha=0.2,bins=100,range=(-np.pi/2.0, 1.5*np.pi))"
   ]
  },
  {
   "cell_type": "code",
   "execution_count": null,
   "metadata": {},
   "outputs": [],
   "source": []
  }
 ],
 "metadata": {
  "kernelspec": {
   "display_name": "Python 2",
   "language": "python",
   "name": "python2"
  },
  "language_info": {
   "codemirror_mode": {
    "name": "ipython",
    "version": 2
   },
   "file_extension": ".py",
   "mimetype": "text/x-python",
   "name": "python",
   "nbconvert_exporter": "python",
   "pygments_lexer": "ipython2",
   "version": "2.7.12"
  }
 },
 "nbformat": 4,
 "nbformat_minor": 2
}
