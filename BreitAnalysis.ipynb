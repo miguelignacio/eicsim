{
 "cells": [
  {
   "cell_type": "code",
   "execution_count": 1,
   "metadata": {},
   "outputs": [
    {
     "name": "stdout",
     "output_type": "stream",
     "text": [
      "Welcome to JupyROOT 6.15/01\n"
     ]
    }
   ],
   "source": [
    "import time\n",
    "import ROOT\n",
    "import numpy as np\n",
    "import pandas as pd\n",
    "import root_pandas as rpd\n",
    "import matplotlib.pyplot as plt\n",
    "import matplotlib.ticker as mticker\n",
    "from matplotlib.colors import LogNorm\n",
    "from root_pandas import read_root\n",
    "from matplotlib import rc\n",
    "from numpy import inf\n",
    "\n",
    "rc('text', usetex=True)"
   ]
  },
  {
   "cell_type": "code",
   "execution_count": 2,
   "metadata": {},
   "outputs": [],
   "source": [
    "def applyCut(inputDataframe, cut, text=None):\n",
    "    dataframe = inputDataframe\n",
    "    nbeforecut = dataframe.shape[0]\n",
    "    cutDataframe = dataframe.query(cut)\n",
    "    if text:\n",
    "        print text, cutDataframe.shape[0], ' fraction kept: %2.1f'%(100.0*float(cutDataframe.shape[0])/nbeforecut)\n",
    "    return cutDataframe"
   ]
  },
  {
   "cell_type": "code",
   "execution_count": null,
   "metadata": {},
   "outputs": [],
   "source": [
    "def getJetData(inputFiles):\n",
    "    \n",
    "    cols = []\n",
    "    scalar = []\n",
    "    scalar.append('evid')\n",
    "    scalar.append('xsec')\n",
    "    scalar.append('ntrials')    \n",
    "    scalar.append('x')\n",
    "    scalar.append('y')\n",
    "    scalar.append('Q2')\n",
    "    scalar.append('W2')\n",
    "\n",
    "\n",
    "    cols.append('n_total')\n",
    "    cols.append('jet_eta')\n",
    "    cols.append('jet_theta')\n",
    "    cols.append('jet_p')\n",
    "    cols.append('jet_pt')\n",
    "    cols.append('jet_qt')\n",
    "    cols.append('jet_qt_breit')\n",
    "    cols.append('jet_z')\n",
    "    \n",
    "    lists = scalar\n",
    "    dataframes = []\n",
    "    for inputFilename in inputFiles:\n",
    "        start = time.time()\n",
    "        df = read_root(inputFilename, columns=lists+cols,flatten=cols)\n",
    "        dataframes.append(df)\n",
    "        end = time.time()\n",
    "        print '\\n', 'Processed', inputFilename, 'in',  '%2.1f'%(end-start), 'seconds'\n",
    "    return pd.concat([x for x in dataframes])"
   ]
  },
  {
   "cell_type": "code",
   "execution_count": null,
   "metadata": {},
   "outputs": [],
   "source": [
    "def getData(inputFiles):\n",
    "    \n",
    "    cols = []\n",
    "    scalar = []\n",
    "    scalar.append('evid')\n",
    "    scalar.append('xsec')\n",
    "    scalar.append('ntrials')    \n",
    "    scalar.append('x')\n",
    "    scalar.append('y')\n",
    "    scalar.append('Q2')\n",
    "    scalar.append('e_eta')\n",
    "    scalar.append('e_theta')\n",
    "    scalar.append('e_p')\n",
    "    scalar.append('e_pt')\n",
    "\n",
    "    scalar.append('quark_eta')\n",
    "    scalar.append('quark_theta')\n",
    "    scalar.append('quark_p')\n",
    "    scalar.append('quark_pt')\n",
    "    \n",
    "    \n",
    "    lists = scalar\n",
    "    dataframes = []\n",
    "    for inputFilename in inputFiles:\n",
    "        start = time.time()\n",
    "        df = read_root(inputFilename, columns=lists+cols,flatten=cols)\n",
    "        dataframes.append(df)\n",
    "        end = time.time()\n",
    "        print '\\n', 'Processed', inputFilename, 'in',  '%2.1f'%(end-start), 'seconds'\n",
    "    return pd.concat([x for x in dataframes])"
   ]
  },
  {
   "cell_type": "code",
   "execution_count": null,
   "metadata": {},
   "outputs": [],
   "source": [
    "def applyEventCuts(df):\n",
    "    temp = df\n",
    "    temp = applyCut(temp, '0.1 < y < 0.85', '0.1 < y < 0.85')\n",
    "    temp = applyCut(temp, 'Q2>25', 'Q2>25')\n",
    "    #temp = applyCut(temp, 'x > 0.05', 'x>0.05')\n",
    "    temp.eval('logQ2= log(Q2)/2.3025850', inplace=True)\n",
    "    temp.eval('logx= log(x)/2.3025850', inplace=True)\n",
    "    return temp\n",
    "\n",
    "def applyJetCuts(df):\n",
    "    temp = df\n",
    "    temp.eval('jet_qtnorm= jet_qt_breit/sqrt(Q2)', inplace=True)\n",
    "    temp.eval('jet_qtnormjetpt= jet_qt_breit/sqrt(jet_pt)', inplace=True)\n",
    "    temp = applyCut(temp, ' jet_z>0.25', 'jet_z>0.25')\n",
    "    temp = applyCut(temp, ' jet_eta<0', 'jet eta <0')\n",
    "    df = applyCut(df, 'n_total>1', ' n>1')\n",
    "    return temp"
   ]
  },
  {
   "cell_type": "code",
   "execution_count": null,
   "metadata": {},
   "outputs": [],
   "source": [
    "df = getData(['NC_10_275.root'])\n",
    "xsec = np.mean(df['xsec'])\n",
    "xsec = xsec*1e9\n",
    "print 'xsection %2.2f [pb]' %(xsec)\n",
    "accepted = df.shape[0]\n",
    "print 'accepted events' , accepted\n",
    "to_cross_section = xsec/(1.0*accepted)\n",
    "\n",
    "df = applyEventCuts(df)\n",
    "print 'Accepted cross-section: %2.0f [pb]'%(df.shape[0]*to_cross_section)\n",
    "\n",
    "##Total cross-section: \n",
    "## in units of fb:\n",
    "lumi = 100 # in units of fb-1. \n",
    "integrated_rate    = 1000*lumi*xsec #multiply by 1000 and then 100 to get integrated yield for 100 fb-1\n",
    "print 'Integrated rate %2.3f [M]' %(integrated_rate/1e6)"
   ]
  },
  {
   "cell_type": "markdown",
   "metadata": {},
   "source": [
    "## Get Jet data apply selection"
   ]
  },
  {
   "cell_type": "code",
   "execution_count": null,
   "metadata": {
    "scrolled": true
   },
   "outputs": [],
   "source": [
    "df_jet      = getJetData(['NC_10_275_Breit.root'])\n",
    "df_jet = applyEventCuts(df_jet)"
   ]
  },
  {
   "cell_type": "code",
   "execution_count": null,
   "metadata": {},
   "outputs": [],
   "source": [
    "import matplotlib.colors as mcolors\n",
    "\n",
    "fig, axs = plt.subplots(ncols=1, sharey=True, figsize=(7, 4))\n",
    "fig.subplots_adjust(hspace=0.5, left=0.07, right=0.93)\n",
    "ax = axs\n",
    "hb = ax.hist2d(df_jet.query('jet_z<1.5 and abs(jet_eta)<4.0')['jet_z'], df_jet.query('jet_z<1.5 and abs(jet_eta)<4.0')['jet_eta'], norm=mcolors.PowerNorm(0.5),bins=50)\n",
    "\n",
    "ax.set_title('Jet z vs Jet eta (Breit Frame)')\n"
   ]
  },
  {
   "cell_type": "code",
   "execution_count": null,
   "metadata": {},
   "outputs": [],
   "source": [
    "rc('text', usetex=False)\n",
    "df_jet.hist(figsize=(24,24),bins=100)\n",
    "plt.show()"
   ]
  },
  {
   "cell_type": "markdown",
   "metadata": {},
   "source": [
    "# plot the z distribution of jets in current and target framengtation"
   ]
  },
  {
   "cell_type": "code",
   "execution_count": null,
   "metadata": {},
   "outputs": [],
   "source": [
    "rc('text', usetex=True)\n",
    "\n",
    "fig, ax1 = plt.subplots(figsize=(15,6))\n",
    "\n",
    "##Electron distribution\n",
    "plt.subplot(121)\n",
    "y, x  = np.histogram(df_jet.query('jet_eta>0')['jet_z'],bins=np.linspace(0,1.5,20))\n",
    "xerr = (x[1:] - x[:-1])/2.0\n",
    "x = (x[1:]+x[:-1])/2\n",
    "y = y*to_cross_section\n",
    "y = y/(xerr*2.0)\n",
    "plt.errorbar(x,y,  xerr = xerr, fmt='.',ls='none',label=r'jet $\\eta>$0')\n",
    "\n",
    "y, x  = np.histogram(df_jet.query('jet_eta<0')['jet_z'],bins=np.linspace(0,1.5,20))\n",
    "xerr = (x[1:] - x[:-1])/2.0\n",
    "x = (x[1:]+x[:-1])/2\n",
    "y = y*to_cross_section\n",
    "y = y/(xerr*2.0)\n",
    "plt.errorbar(x,y,  xerr = xerr, fmt='.',ls='none',label=r'jet $\\eta<$0')\n",
    "\n",
    "plt.legend(fontsize=16)\n",
    "plt.yticks(fontsize=16)\n",
    "plt.xticks(fontsize=16)\n",
    "plt.xlabel('jet $z$ = $2E^{jet}/Q$',fontsize=18)\n",
    "plt.ylabel(r'd$\\sigma$/dz [pb]',fontsize=18)\n",
    "plt.title('$\\mathrm{NC}\\ \\mathrm{DIS}$, $10+275$ $\\mathrm{GeV}$, $0.1<y<0.85$', fontsize=18)"
   ]
  },
  {
   "cell_type": "markdown",
   "metadata": {},
   "source": [
    "## Apply jet cuts"
   ]
  },
  {
   "cell_type": "code",
   "execution_count": null,
   "metadata": {},
   "outputs": [],
   "source": [
    "df_jet = applyJetCuts(df_jet)"
   ]
  },
  {
   "cell_type": "code",
   "execution_count": null,
   "metadata": {},
   "outputs": [],
   "source": [
    "## z distribution:"
   ]
  },
  {
   "cell_type": "code",
   "execution_count": null,
   "metadata": {},
   "outputs": [],
   "source": [
    "rc('text', usetex=True)\n",
    "\n",
    "fig, ax1 = plt.subplots(figsize=(15,6))\n",
    "\n",
    "##Electron distribution\n",
    "plt.subplot(121)\n",
    "y, x  = np.histogram(df_jet.query('jet_eta>0')['jet_z'],bins=np.linspace(0,1.5,20))\n",
    "xerr = (x[1:] - x[:-1])/2.0\n",
    "x = (x[1:]+x[:-1])/2\n",
    "y = y*to_cross_section\n",
    "y = y/(xerr*2.0)\n",
    "plt.errorbar(x,y,  xerr = xerr, fmt='.',ls='none',label=r'jet $\\eta>$0')\n",
    "\n",
    "y, x  = np.histogram(df_jet.query('jet_eta<0')['jet_z'],bins=np.linspace(0,1.5,20))\n",
    "xerr = (x[1:] - x[:-1])/2.0\n",
    "x = (x[1:]+x[:-1])/2\n",
    "y = y*to_cross_section\n",
    "y = y/(xerr*2.0)\n",
    "plt.errorbar(x,y,  xerr = xerr, fmt='.',ls='none',label=r'jet $\\eta<$0')\n",
    "\n",
    "plt.legend(fontsize=16)\n",
    "plt.yticks(fontsize=16)\n",
    "plt.xticks(fontsize=16)\n",
    "plt.xlabel('jet $z$ = $2E^{jet}/Q$',fontsize=18)\n",
    "plt.ylabel(r'd$\\sigma$/dz [pb]',fontsize=18)\n",
    "plt.title('$\\mathrm{NC}\\ \\mathrm{DIS}$, $10+275$ $\\mathrm{GeV}$, $0.1<y<0.85$', fontsize=18)\n"
   ]
  },
  {
   "cell_type": "code",
   "execution_count": null,
   "metadata": {},
   "outputs": [],
   "source": [
    "from matplotlib import rc\n",
    "rc('text', usetex=True)\n",
    "\n",
    "\n",
    "fig, axs = plt.subplots(3, 3, sharex=True, sharey='row', figsize=(20,12),gridspec_kw={'hspace':0,'wspace':0})\n",
    "\n",
    "for counter,edges in enumerate([(15,20),(20,25),(25,30)]):\n",
    "    df_Q2cut = df_jet.query('sqrt(Q2)> %2.2f and sqrt(Q2)<%2.2f'%(edges[0],edges[1]))\n",
    "    axs[0,counter].set_title(r' %2.0f$<Q<$%2.0f [GeV]'%(edges[0],edges[1]), fontsize=25)\n",
    "    \n",
    "    for zcounter,zedges in enumerate([(0.2,0.4), (0.4,0.6),(0.6,1.0)]):\n",
    "        df_zcut = df_Q2cut.query('jet_z> %2.2f and jet_z<%2.2f'%(zedges[0],zedges[1]))\n",
    "        axs[zcounter,2].yaxis.set_label_position(\"right\")\n",
    "        axs[zcounter,2].yaxis.set_label_text(' %2.1f$<2E_{jet}/Q<$%2.1f'%(zedges[0],zedges[1]),fontsize=23)\n",
    "        #for xcounter,xedges in enumerate([(0.1,0.15), (0.15,0.2),(0.2,0.25),(0.25,0.30),(0.30,0.35),(0.35,0.40)]):\n",
    "        for xcounter,xedges in enumerate([(0.1,0.2), (0.2,0.3),(0.3,0.4),(0.4,0.6)]):\n",
    "            df_xcut = df_zcut.query('x> %2.2f and x<%2.2f'%(xedges[0],xedges[1]))\n",
    "            y, x  = np.histogram(df_xcut['jet_qtnorm'],bins=6,range=(0,0.3))\n",
    "            x = (x[1:]+x[:-1])/2\n",
    "            y = y*to_cross_section\n",
    "            y = y*1000*lumi\n",
    "            erry = np.sqrt(y)\n",
    "            label = '%2.1f$<x<$%2.1f'%(xedges[0],xedges[1])\n",
    "            row = counter%3\n",
    "            axs[zcounter,counter].errorbar(x,y,yerr=erry, fmt='-o',label=label)\n",
    "            axs[zcounter,counter].semilogy()\n",
    "            axs[zcounter,counter].tick_params('both',labelsize=20)\n",
    "\n",
    "    \n",
    "axs[2,0].xaxis.set_label_text(r'$q_{T}/Q$', fontsize=25)\n",
    "axs[2,1].xaxis.set_label_text(r'$q_{T}/Q$', fontsize=25)\n",
    "axs[2,2].xaxis.set_label_text(r'$q_{T}/Q$', fontsize=25)\n",
    "\n",
    "axs[0,0].yaxis.set_label_text(r'$\\mathrm{d \\sigma}\\times 100 $ fb^{-1}', fontsize=23)\n",
    "axs[1,0].yaxis.set_label_text(r'$\\mathrm{d \\sigma}\\times 100 $ fb^{-1}', fontsize=23)\n",
    "axs[2,0].yaxis.set_label_text(r'$\\mathrm{d \\sigma}\\times 100 $ fb^{-1}', fontsize=23)\n",
    "\n",
    "axs[0,2].legend(fontsize=20,frameon=False,ncol=2)\n",
    "\n",
    "\n",
    "\n",
    "\n",
    "\n",
    "axs[0,0].tick_params('both',labelsize=20)\n",
    "#axs[0,0].xticks(fontsize=20)\n",
    "\n",
    "    #axs[counter].text(0.1,6, , fontsize=20)\n",
    "    #axs[counter].text(0.1,8, '$\\sqrt{s} = 89 \\, \\mathrm{GeV}$ \\n $0.1 < y < 0.85$ \\n $p_T^{jet} > 4 \\, \\mathrm{GeV/c}$', fontsize=20)\n",
    "    #plt.legend(prop={'size': 20}, frameon=False, loc='best')\n",
    "    #axs[counter].text(0.07,10, r' $ %2.0f< p_{\\mathrm{T}}^{e} < %2.0f$'%(edges[0],edges[1]) + '$\\ \\mathrm{ GeV}$ \\n' +\n",
    "                   #   r'$\\langle x \\rangle = %2.2f, \\langle Q^{2} \\rangle = %2.0f \\ \\mathrm{GeV}^{2}$'%(df_cut['x'].mean(), df_cut['Q2'].mean()), fontsize=25)\n",
    "\n",
    "#axs[1].set_title(r'NC\\ DIS \\ $10+275$ \\ $\\mathrm{GeV}$, 100 $\\mathrm{fb}^{-1}$ , $0.1<y<0.85$, $Q^{2}>25$ $\\mathrm{GeV}^{2}$',fontsize=25)  \n",
    "\n",
    "plt.savefig('NC_LeptonJetqt.png', bbox_inches='tight')\n",
    "plt.savefig('NC_LeptonJetqt.pdf', bbox_inches='tight')"
   ]
  },
  {
   "cell_type": "code",
   "execution_count": null,
   "metadata": {},
   "outputs": [],
   "source": []
  }
 ],
 "metadata": {
  "kernelspec": {
   "display_name": "Python 2",
   "language": "python",
   "name": "python2"
  },
  "language_info": {
   "codemirror_mode": {
    "name": "ipython",
    "version": 2
   },
   "file_extension": ".py",
   "mimetype": "text/x-python",
   "name": "python",
   "nbconvert_exporter": "python",
   "pygments_lexer": "ipython2",
   "version": "2.7.12"
  }
 },
 "nbformat": 4,
 "nbformat_minor": 2
}
