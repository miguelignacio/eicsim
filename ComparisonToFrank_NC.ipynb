{
 "cells": [
  {
   "cell_type": "code",
   "execution_count": 1,
   "metadata": {},
   "outputs": [
    {
     "name": "stdout",
     "output_type": "stream",
     "text": [
      "Welcome to JupyROOT 6.15/01\n"
     ]
    }
   ],
   "source": [
    "import time\n",
    "import ROOT\n",
    "import numpy as np\n",
    "import pandas as pd\n",
    "import root_pandas as rpd\n",
    "import matplotlib.pyplot as plt\n",
    "import matplotlib.ticker as mticker\n",
    "from matplotlib.colors import LogNorm\n",
    "from root_pandas import read_root\n",
    "from matplotlib import rc\n",
    "from numpy import inf\n",
    "\n",
    "rc('text', usetex=True)\n",
    "\n",
    "def applyCut(inputDataframe, cut, text=None):\n",
    "    dataframe = inputDataframe\n",
    "    nbeforecut = dataframe.shape[0]\n",
    "    cutDataframe = dataframe.query(cut)\n",
    "    if text:\n",
    "        print text, cutDataframe.shape[0], ' fraction kept: %2.1f'%(100.0*float(cutDataframe.shape[0])/nbeforecut)\n",
    "    return cutDataframe\n",
    "\n",
    "def getData(inputFiles):\n",
    "    \n",
    "    cols = []\n",
    "    scalar = []\n",
    "    scalar.append('evid')\n",
    "    scalar.append('xsec')\n",
    "    scalar.append('ntrials')    \n",
    "    scalar.append('x')\n",
    "    scalar.append('y')\n",
    "    scalar.append('Q2')\n",
    "    scalar.append('W2')\n",
    "    scalar.append('e_eta')\n",
    "    scalar.append('e_theta')\n",
    "    scalar.append('e_p')\n",
    "    scalar.append('e_pt')\n",
    "\n",
    "\n",
    "    \n",
    "    lists = scalar\n",
    "    dataframes = []\n",
    "    for inputFilename in inputFiles:\n",
    "        start = time.time()\n",
    "        df = read_root(inputFilename, columns=lists+cols,flatten=cols)\n",
    "        dataframes.append(df)\n",
    "        end = time.time()\n",
    "        print '\\n', 'Processed', inputFilename, 'in',  '%2.1f'%(end-start), 'seconds'\n",
    "    return pd.concat([x for x in dataframes])"
   ]
  },
  {
   "cell_type": "code",
   "execution_count": 2,
   "metadata": {},
   "outputs": [],
   "source": [
    "def getJetData(inputFiles):\n",
    "    \n",
    "    cols = []\n",
    "    scalar = []\n",
    "    scalar.append('evid')\n",
    "    scalar.append('xsec')\n",
    "    scalar.append('ntrials')    \n",
    "    scalar.append('x')\n",
    "    scalar.append('y')\n",
    "    scalar.append('Q2')\n",
    "    scalar.append('W2')\n",
    "    scalar.append('e_eta')\n",
    "    scalar.append('e_theta')\n",
    "    scalar.append('e_p')\n",
    "    scalar.append('e_pt')\n",
    "\n",
    "    scalar.append('quark_eta')\n",
    "    scalar.append('quark_theta')\n",
    "    scalar.append('quark_p')\n",
    "    scalar.append('quark_pt')\n",
    "    scalar.append('quark_id')\n",
    "    cols.append('n_total')\n",
    "    cols.append('n_charged')\n",
    "    cols.append('jet_eta')\n",
    "    cols.append('jet_theta')\n",
    "    cols.append('jet_p')\n",
    "    cols.append('jet_pt')\n",
    "    cols.append('jet_qt')\n",
    "    cols.append('jet_charge')\n",
    "\n",
    "    cols.append('dphi_e_jet')\n",
    "    cols.append('dR_q_jet')\n",
    "    \n",
    "    lists = scalar\n",
    "    dataframes = []\n",
    "    for inputFilename in inputFiles:\n",
    "        start = time.time()\n",
    "        df = read_root(inputFilename, columns=lists+cols,flatten=cols)\n",
    "        dataframes.append(df)\n",
    "        end = time.time()\n",
    "        print '\\n', 'Processed', inputFilename, 'in',  '%2.1f'%(end-start), 'seconds'\n",
    "    return pd.concat([x for x in dataframes])"
   ]
  },
  {
   "cell_type": "code",
   "execution_count": 3,
   "metadata": {},
   "outputs": [],
   "source": [
    "def applyCuts(df):\n",
    "    temp = df\n",
    "    temp = applyCut(temp, '0.1 < y < 0.85', '0.1 < y < 0.85')\n",
    "    temp = applyCut(temp, 'Q2>25', 'Q2>25')\n",
    "    #temp = applyCut(temp, 'x > 0.05', 'x>0.05')\n",
    "    #temp = applyCut(temp, 'dphi_e_jet > 2.74', 'dphi_e_jet>3.14159-0.4')\n",
    "    #temp = applyCut(temp, 'Q2>100.0', ' Q2>100.0')\n",
    "    #temp.eval('dphi = 3.14159-dphi_e_jet', inplace=True)\n",
    "    temp.eval('logQ2= log(Q2)/2.3025850', inplace=True)\n",
    "    temp.eval('logx= log(x)/2.3025850', inplace=True)\n",
    "    return temp"
   ]
  },
  {
   "cell_type": "code",
   "execution_count": 4,
   "metadata": {},
   "outputs": [],
   "source": [
    "def applyCutsJets(df):\n",
    "    temp = df\n",
    "    temp = applyCut(temp, 'y>0.04 ', 'y>0.04')\n",
    "    temp = applyCut(temp, 'Q2>25', 'Q2>25')\n",
    "    temp = applyCut(temp, 'jet_pt>5', 'jet_pt>5')\n",
    "    temp = applyCut(temp, 'jet_eta<3.0', 'jet_eta<3.0')\n",
    "\n",
    "    #temp = applyCut(temp, 'dphi_e_jet > 2.74', 'dphi_e_jet>3.14159-0.4')\n",
    "    #temp = applyCut(temp, 'Q2>100.0', ' Q2>100.0')\n",
    "    \n",
    "    temp.eval('dphi = 3.14159-dphi_e_jet', inplace=True)\n",
    "    temp.eval('jet_qtnorm= jet_qt/sqrt(Q2)', inplace=True)\n",
    "    temp.eval('jet_qtnormjetpt= jet_qt/sqrt(jet_pt)', inplace=True)\n",
    "    temp.eval('jet_qtnormept= jet_qt/sqrt(e_pt)', inplace=True)\n",
    "\n",
    "   # df = applyCut(df, 'n_total>1', ' n>1')\n",
    "    return temp"
   ]
  },
  {
   "cell_type": "code",
   "execution_count": 5,
   "metadata": {},
   "outputs": [
    {
     "name": "stdout",
     "output_type": "stream",
     "text": [
      "\n",
      "Processed HERA.root in 0.2 seconds\n",
      "xsection 7044.44 [pb]\n",
      "accepted events 10000\n",
      "0.1 < y < 0.85 5194  fraction kept: 51.9\n",
      "Q2>25 5194  fraction kept: 100.0\n",
      "Accepted cross-section: 3659 [pb]\n",
      "Integrated rate 704.444 [M]\n"
     ]
    }
   ],
   "source": [
    "df = getData(['HERA.root'])\n",
    "xsec = np.mean(df['xsec'])\n",
    "xsec = xsec*1e9\n",
    "print 'xsection %2.2f [pb]' %(xsec)\n",
    "accepted = df.shape[0]\n",
    "print 'accepted events' , accepted\n",
    "to_cross_section = xsec/(1.0*accepted)\n",
    "\n",
    "df = applyCuts(df)\n",
    "print 'Accepted cross-section: %2.0f [pb]'%(df.shape[0]*to_cross_section)\n",
    "\n",
    "##Total cross-section: \n",
    "## in units of fb:\n",
    "lumi = 100 # in units of fb-1. \n",
    "integrated_rate    = 1000*lumi*xsec #multiply by 1000 and then 100 to get integrated yield for 100 fb-1\n",
    "print 'Integrated rate %2.3f [M]' %(integrated_rate/1e6)\n",
    "\n",
    "\n",
    "\n",
    "\n",
    "\n",
    "\n",
    "\n"
   ]
  },
  {
   "cell_type": "code",
   "execution_count": null,
   "metadata": {
    "scrolled": true
   },
   "outputs": [],
   "source": [
    "df = getData(['NC_20_250.root'])\n",
    "xsec = np.mean(df['xsec'])\n",
    "xsec = xsec*1e9\n",
    "print 'xsection %2.2f [pb]' %(xsec)\n",
    "accepted = df.shape[0]\n",
    "print 'accepted events' , accepted\n",
    "to_cross_section = xsec/(1.0*accepted)\n",
    "\n",
    "df = applyCuts(df)\n",
    "print 'Accepted cross-section: %2.0f [pb]'%(df.shape[0]*to_cross_section)\n",
    "\n",
    "\n",
    "fig, ax1 = plt.subplots(figsize=(8,6))\n",
    "\n",
    "\n",
    "Frank_x = [50.0, 100.0 ,150.0, 200.0 ,250.0,300.0,350.0,400.0 ,450.0,500.0]\n",
    "Frank_y = [174.548611821, 29.7689334957, 11.4497244841, 5.8508104121,3.48242036824,2.2766642155,1.58607089636,1.15761868311,0.876006984652,0.680301593143]\n",
    "\n",
    "errx = 25*np.ones(len(Frank_x))\n",
    "plt.errorbar(Frank_x,Frank_y,xerr=errx, label='PLB 763 (2016) 52-59, \\nF. Petriello priv comm')\n",
    "plt.yscale('log')\n",
    "\n",
    "\n",
    "\n",
    "y, x  = np.histogram(df['Q2'],bins=np.linspace(25,525,11))\n",
    "xerr = (x[1:] - x[:-1])/2.0\n",
    "x = (x[1:]+x[:-1])/2\n",
    "y = y*to_cross_section\n",
    "y = y/(xerr*2.0)\n",
    "\n",
    "plt.errorbar(x,y,  xerr = xerr, fmt='.',ls='none',label='Pythia8')\n",
    "plt.yticks(fontsize=16)\n",
    "plt.xticks(fontsize=16)\n",
    "plt.xlabel('$Q^{2}$\\ $[\\mathrm{GeV}^{2}]$',fontsize=18)\n",
    "plt.ylabel(r'd$\\sigma$/$Q^{2}$ [pb]',fontsize=18)\n",
    "plt.title('$\\mathrm{NC}\\ \\mathrm{DIS}$, $20+250$ $\\mathrm{GeV}$, $0.1<y<0.85$', fontsize=18)\n",
    "\n",
    "plt.legend(loc='best',frameon=False,fontsize=18)\n",
    "print y \n",
    "print Frank_y\n",
    "print np.divide(Frank_y,y)\n",
    "plt.show()\n"
   ]
  },
  {
   "cell_type": "code",
   "execution_count": 11,
   "metadata": {},
   "outputs": [
    {
     "name": "stdout",
     "output_type": "stream",
     "text": [
      "\n",
      "Processed HERA.root in 0.4 seconds\n",
      "y>0.04 10972  fraction kept: 79.4\n",
      "Q2>25 10972  fraction kept: 100.0\n",
      "jet_pt>5 7973  fraction kept: 72.7\n",
      "jet_eta<3.0 7853  fraction kept: 98.5\n",
      "[ 7.   9.  12.  17.5 25.  38.  59.  99. ]\n",
      "[ 1.   1.   2.   3.5  4.   9.  12.  28. ]\n"
     ]
    },
    {
     "data": {
      "image/png": "[encoded data removed]",
      "text/plain": [
       "<matplotlib.figure.Figure at 0x7f170d2658d0>"
      ]
     },
     "metadata": {
      "needs_background": "light"
     },
     "output_type": "display_data"
    }
   ],
   "source": [
    "\n",
    "\n",
    "\n",
    "df_jet = getJetData(['HERA.root'])\n",
    "df_jet = applyCutsJets(df_jet)\n",
    "\n",
    "y, x  = np.histogram(df_jet['jet_pt'],bins=np.linspace(6,100,21))\n",
    "xerr = (x[1:] - x[:-1])/2.0\n",
    "x = (x[1:]+x[:-1])/2\n",
    "y = y*to_cross_section\n",
    "y = y/(xerr*2.0)\n",
    "\n",
    "plt.errorbar(x,y,  xerr = xerr, fmt='.',ls='none',label='Pythia 8.244')\n",
    "plt.yticks(fontsize=16)\n",
    "plt.xticks(fontsize=16)\n",
    "plt.xlabel('$p_{T}$\\ $[\\mathrm{GeV}]$',fontsize=18)\n",
    "plt.ylabel(r'd$\\sigma$/p_{T}$ [pb]',fontsize=18)\n",
    "plt.title('$\\mathrm{NC}\\ \\mathrm{DIS}$, $27.6+920$ $\\mathrm{GeV}$, $y>0.04$', fontsize=18)\n",
    "\n",
    "\n",
    "y = np.array([2685, 1408,599.9,165.55,40.59,7.90, 0.873, 0.0433])\n",
    "xdo = np.array([6,8,10,14,21,29,47,71])\n",
    "xup = np.array([8,10,14,21,29,47,71,127])\n",
    "errx = (xup-xdo)/2.0\n",
    "x = (xup+xdo)/2.0\n",
    "print x\n",
    "print errx\n",
    "\n",
    "plt.errorbar(x, y, xerr=errx,label='HERA')\n",
    "plt.legend(loc='best',frameon=False,fontsize=18)\n",
    "\n",
    "plt.yscale('log')"
   ]
  },
  {
   "cell_type": "code",
   "execution_count": null,
   "metadata": {},
   "outputs": [],
   "source": []
  }
 ],
 "metadata": {
  "kernelspec": {
   "display_name": "Python 2",
   "language": "python",
   "name": "python2"
  },
  "language_info": {
   "codemirror_mode": {
    "name": "ipython",
    "version": 2
   },
   "file_extension": ".py",
   "mimetype": "text/x-python",
   "name": "python",
   "nbconvert_exporter": "python",
   "pygments_lexer": "ipython2",
   "version": "2.7.12"
  }
 },
 "nbformat": 4,
 "nbformat_minor": 2
}
