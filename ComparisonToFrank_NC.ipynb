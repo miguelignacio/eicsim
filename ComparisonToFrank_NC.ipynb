{
 "cells": [
  {
   "cell_type": "code",
   "execution_count": 1,
   "metadata": {},
   "outputs": [
    {
     "name": "stdout",
     "output_type": "stream",
     "text": [
      "Welcome to JupyROOT 6.15/01\n"
     ]
    }
   ],
   "source": [
    "import time\n",
    "import ROOT\n",
    "import numpy as np\n",
    "import pandas as pd\n",
    "import root_pandas as rpd\n",
    "import matplotlib.pyplot as plt\n",
    "import matplotlib.ticker as mticker\n",
    "from matplotlib.colors import LogNorm\n",
    "from root_pandas import read_root\n",
    "from matplotlib import rc\n",
    "from numpy import inf\n",
    "\n",
    "rc('text', usetex=True)\n",
    "\n",
    "def applyCut(inputDataframe, cut, text=None):\n",
    "    dataframe = inputDataframe\n",
    "    nbeforecut = dataframe.shape[0]\n",
    "    cutDataframe = dataframe.query(cut)\n",
    "    if text:\n",
    "        print text, cutDataframe.shape[0], ' fraction kept: %2.1f'%(100.0*float(cutDataframe.shape[0])/nbeforecut)\n",
    "    return cutDataframe\n",
    "\n",
    "def getData(inputFiles):\n",
    "    \n",
    "    cols = []\n",
    "    scalar = []\n",
    "    scalar.append('evid')\n",
    "    scalar.append('xsec')\n",
    "    scalar.append('ntrials')    \n",
    "    scalar.append('x')\n",
    "    scalar.append('y')\n",
    "    scalar.append('Q2')\n",
    "    scalar.append('W2')\n",
    "    scalar.append('e_eta')\n",
    "    scalar.append('e_theta')\n",
    "    scalar.append('e_p')\n",
    "    scalar.append('e_pt')\n",
    "\n",
    "\n",
    "    \n",
    "    lists = scalar\n",
    "    dataframes = []\n",
    "    for inputFilename in inputFiles:\n",
    "        start = time.time()\n",
    "        df = read_root(inputFilename, columns=lists+cols,flatten=cols)\n",
    "        dataframes.append(df)\n",
    "        end = time.time()\n",
    "        print '\\n', 'Processed', inputFilename, 'in',  '%2.1f'%(end-start), 'seconds'\n",
    "    return pd.concat([x for x in dataframes])"
   ]
  },
  {
   "cell_type": "code",
   "execution_count": 2,
   "metadata": {},
   "outputs": [],
   "source": [
    "def applyCuts(df):\n",
    "    temp = df\n",
    "    temp = applyCut(temp, '0.1 < y < 0.85', '0.1 < y < 0.85')\n",
    "    temp = applyCut(temp, 'Q2>25', 'Q2>25')\n",
    "    #temp = applyCut(temp, 'x > 0.05', 'x>0.05')\n",
    "    #temp = applyCut(temp, 'dphi_e_jet > 2.74', 'dphi_e_jet>3.14159-0.4')\n",
    "    #temp = applyCut(temp, 'Q2>100.0', ' Q2>100.0')\n",
    "    #temp.eval('dphi = 3.14159-dphi_e_jet', inplace=True)\n",
    "    temp.eval('logQ2= log(Q2)/2.3025850', inplace=True)\n",
    "    temp.eval('logx= log(x)/2.3025850', inplace=True)\n",
    "    return temp"
   ]
  },
  {
   "cell_type": "code",
   "execution_count": 4,
   "metadata": {},
   "outputs": [
    {
     "name": "stdout",
     "output_type": "stream",
     "text": [
      "\n",
      "Processed NC_20_250.root in 0.0 seconds\n",
      "xsection 22220.50 [pb]\n",
      "accepted events 30000\n",
      "0.1 < y < 0.85 14931  fraction kept: 49.8\n",
      "Q2>25 14839  fraction kept: 99.4\n",
      "Accepted cross-section: 10991 [pb]\n",
      "Integrated rate 2222.050 [M]\n"
     ]
    }
   ],
   "source": [
    "df = getData(['NC_20_250.root'])\n",
    "xsec = np.mean(df['xsec'])\n",
    "xsec = xsec*1e9\n",
    "print 'xsection %2.2f [pb]' %(xsec)\n",
    "accepted = df.shape[0]\n",
    "print 'accepted events' , accepted\n",
    "to_cross_section = xsec/(1.0*accepted)\n",
    "\n",
    "df = applyCuts(df)\n",
    "print 'Accepted cross-section: %2.0f [pb]'%(df.shape[0]*to_cross_section)\n",
    "\n",
    "##Total cross-section: \n",
    "## in units of fb:\n",
    "lumi = 100 # in units of fb-1. \n",
    "integrated_rate    = 1000*lumi*xsec #multiply by 1000 and then 100 to get integrated yield for 100 fb-1\n",
    "print 'Integrated rate %2.3f [M]' %(integrated_rate/1e6)"
   ]
  },
  {
   "cell_type": "code",
   "execution_count": 5,
   "metadata": {
    "scrolled": true
   },
   "outputs": [
    {
     "name": "stdout",
     "output_type": "stream",
     "text": [
      "\n",
      "Processed NC_20_250.root in 0.0 seconds\n",
      "xsection 22220.50 [pb]\n",
      "accepted events 30000\n",
      "0.1 < y < 0.85 14931  fraction kept: 49.8\n",
      "Q2>25 14839  fraction kept: 99.4\n",
      "Accepted cross-section: 10991 [pb]\n",
      "[159.11357983  29.10885247  11.27319935   5.92546615   3.48121136\n",
      "   2.23686347   1.68875785   1.39248455   0.79993793   0.65180128]\n",
      "[174.548611821, 29.7689334957, 11.4497244841, 5.8508104121, 3.48242036824, 2.2766642155, 1.58607089636, 1.15761868311, 0.876006984652, 0.680301593143]\n",
      "[1.09700638 1.0226763  1.01565883 0.98740087 1.00034729 1.0177931\n",
      " 0.93919379 0.83133324 1.0950937  1.04372547]\n"
     ]
    },
    {
     "data": {
      "image/png": "[encoded data removed]",
      "text/plain": [
       "<matplotlib.figure.Figure at 0x7f4293b63250>"
      ]
     },
     "metadata": {
      "needs_background": "light"
     },
     "output_type": "display_data"
    }
   ],
   "source": [
    "df = getData(['NC_20_250.root'])\n",
    "xsec = np.mean(df['xsec'])\n",
    "xsec = xsec*1e9\n",
    "print 'xsection %2.2f [pb]' %(xsec)\n",
    "accepted = df.shape[0]\n",
    "print 'accepted events' , accepted\n",
    "to_cross_section = xsec/(1.0*accepted)\n",
    "\n",
    "df = applyCuts(df)\n",
    "print 'Accepted cross-section: %2.0f [pb]'%(df.shape[0]*to_cross_section)\n",
    "\n",
    "\n",
    "fig, ax1 = plt.subplots(figsize=(8,6))\n",
    "\n",
    "\n",
    "Frank_x = [50.0, 100.0 ,150.0, 200.0 ,250.0,300.0,350.0,400.0 ,450.0,500.0]\n",
    "Frank_y = [174.548611821, 29.7689334957, 11.4497244841, 5.8508104121,3.48242036824,2.2766642155,1.58607089636,1.15761868311,0.876006984652,0.680301593143]\n",
    "\n",
    "errx = 25*np.ones(len(Frank_x))\n",
    "plt.errorbar(Frank_x,Frank_y,xerr=errx, label='PLB 763 (2016) 52-59, \\nF. Petriello priv comm')\n",
    "plt.yscale('log')\n",
    "\n",
    "\n",
    "\n",
    "y, x  = np.histogram(df['Q2'],bins=np.linspace(25,525,11))\n",
    "xerr = (x[1:] - x[:-1])/2.0\n",
    "x = (x[1:]+x[:-1])/2\n",
    "y = y*to_cross_section\n",
    "y = y/(xerr*2.0)\n",
    "\n",
    "plt.errorbar(x,y,  xerr = xerr, fmt='.',ls='none',label='Pythia8')\n",
    "plt.yticks(fontsize=16)\n",
    "plt.xticks(fontsize=16)\n",
    "plt.xlabel('$Q^{2}$\\ $[\\mathrm{GeV}^{2}]$',fontsize=18)\n",
    "plt.ylabel(r'd$\\sigma$/$Q^{2}$ [pb]',fontsize=18)\n",
    "plt.title('$\\mathrm{NC}\\ \\mathrm{DIS}$, $20+250$ $\\mathrm{GeV}$, $0.1<y<0.85$', fontsize=18)\n",
    "\n",
    "plt.legend(loc='best',frameon=False,fontsize=18)\n",
    "print y \n",
    "print Frank_y\n",
    "print np.divide(Frank_y,y)\n",
    "plt.show()\n"
   ]
  },
  {
   "cell_type": "code",
   "execution_count": null,
   "metadata": {},
   "outputs": [],
   "source": []
  }
 ],
 "metadata": {
  "kernelspec": {
   "display_name": "Python 2",
   "language": "python",
   "name": "python2"
  },
  "language_info": {
   "codemirror_mode": {
    "name": "ipython",
    "version": 2
   },
   "file_extension": ".py",
   "mimetype": "text/x-python",
   "name": "python",
   "nbconvert_exporter": "python",
   "pygments_lexer": "ipython2",
   "version": "2.7.12"
  }
 },
 "nbformat": 4,
 "nbformat_minor": 2
}
