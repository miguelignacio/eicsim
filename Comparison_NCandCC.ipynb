{
 "cells": [
  {
   "cell_type": "code",
   "execution_count": 1,
   "metadata": {},
   "outputs": [
    {
     "name": "stdout",
     "output_type": "stream",
     "text": [
      "Welcome to JupyROOT 6.15/01\n"
     ]
    }
   ],
   "source": [
    "import time\n",
    "import ROOT\n",
    "import numpy as np\n",
    "import pandas as pd\n",
    "import root_pandas as rpd\n",
    "import matplotlib.pyplot as plt\n",
    "import matplotlib.ticker as mticker\n",
    "from matplotlib.colors import LogNorm\n",
    "from root_pandas import read_root\n",
    "from numpy import inf\n",
    "from matplotlib import rc\n",
    "rc('text', usetex=True)"
   ]
  },
  {
   "cell_type": "code",
   "execution_count": 2,
   "metadata": {},
   "outputs": [],
   "source": [
    "def applyCut(inputDataframe, cut, text=None):\n",
    "    dataframe = inputDataframe\n",
    "    nbeforecut = dataframe.shape[0]\n",
    "    cutDataframe = dataframe.query(cut)\n",
    "    if text:\n",
    "        print text, cutDataframe.shape[0], ' fraction kept: %2.1f'%(100.0*float(cutDataframe.shape[0])/nbeforecut)\n",
    "    return cutDataframe"
   ]
  },
  {
   "cell_type": "code",
   "execution_count": 3,
   "metadata": {},
   "outputs": [],
   "source": [
    "def getJetData(inputFiles):\n",
    "    \n",
    "    cols = []\n",
    "    scalar = []\n",
    "    scalar.append('x')\n",
    "    scalar.append('y')\n",
    "    scalar.append('Q2')\n",
    "    scalar.append('e_pt')\n",
    "\n",
    "    cols.append('jet_eta')\n",
    "    cols.append('jet_p')\n",
    "    cols.append('jet_pt')\n",
    "    cols.append('jet_qt')\n",
    "    cols.append('dphi_e_jet')\n",
    "    cols.append('dR_q_jet')\n",
    "    \n",
    "    lists = scalar\n",
    "    dataframes = []\n",
    "    for inputFilename in inputFiles:\n",
    "        start = time.time()\n",
    "        df = read_root(inputFilename, columns=lists+cols,flatten=cols)\n",
    "        dataframes.append(df)\n",
    "        end = time.time()\n",
    "        print '\\n', 'Processed', inputFilename, 'in',  '%2.1f'%(end-start), 'seconds'\n",
    "    return pd.concat([x for x in dataframes])"
   ]
  },
  {
   "cell_type": "code",
   "execution_count": 4,
   "metadata": {},
   "outputs": [],
   "source": [
    "def getLeptonData(inputFiles):\n",
    "    cols = []\n",
    "    scalar = []\n",
    "    scalar.append('evid')\n",
    "    scalar.append('xsec')\n",
    "    scalar.append('ntrials')    \n",
    "    scalar.append('x')\n",
    "    scalar.append('y')\n",
    "    scalar.append('Q2')\n",
    "    scalar.append('W2')\n",
    "    scalar.append('e_eta')\n",
    "    scalar.append('e_theta')\n",
    "    scalar.append('e_p')\n",
    "    scalar.append('e_pt')\n",
    "\n",
    "    \n",
    "    lists = scalar\n",
    "    dataframes = []\n",
    "    for inputFilename in inputFiles:\n",
    "        start = time.time()\n",
    "        df = read_root(inputFilename, columns=lists+cols,flatten=cols)\n",
    "        dataframes.append(df)\n",
    "        end = time.time()\n",
    "        print '\\n', 'Processed', inputFilename, 'in',  '%2.1f'%(end-start), 'seconds'\n",
    "    return pd.concat([x for x in dataframes])"
   ]
  },
  {
   "cell_type": "code",
   "execution_count": 5,
   "metadata": {},
   "outputs": [],
   "source": [
    "##Selection on event variables\n",
    "def applyEventCuts(df):\n",
    "    print '################### ' \n",
    "    print 'Applying event selection'\n",
    "    temp = df \n",
    "    temp = applyCut(temp, 'y < 0.85 and y>0.1', '0.1 < y < 0.85')\n",
    "    temp = applyCut(temp, 'Q2>100', 'Q2>100')\n",
    "    temp.eval('logQ2= log(Q2)/2.3025850', inplace=True)\n",
    "    temp.eval('logx= log(x)/2.3025850', inplace=True)\n",
    "    \n",
    "    print '################### \\n' \n",
    "    return temp"
   ]
  },
  {
   "cell_type": "code",
   "execution_count": 6,
   "metadata": {},
   "outputs": [],
   "source": [
    "## Selection on event and jet variables\n",
    "def applyJetCuts(df):\n",
    "    print '################### ' \n",
    "    print 'Applying jet selection'\n",
    "    temp = df\n",
    "    temp = applyCut(temp, 'jet_pt>10.0', ' jet pT > 10 GeV') \n",
    "    temp = applyCut(temp, 'dphi_e_jet > 2.74', 'dphi_e_jet>3.14159-0.4')\n",
    "    print '################### \\n' \n",
    "    temp.eval('jet_qtnorm= jet_qt/sqrt(Q2)', inplace=True)\n",
    "    temp.eval('jet_qtnormjetpt= jet_qt/sqrt(jet_pt)', inplace=True)\n",
    "    temp.eval('jet_qtnormept= jet_qt/sqrt(e_pt)', inplace=True)\n",
    "    temp.eval('Q = sqrt(Q2)',inplace=True)\n",
    "\n",
    "    return temp"
   ]
  },
  {
   "cell_type": "code",
   "execution_count": 7,
   "metadata": {},
   "outputs": [],
   "source": [
    "def printSummary(df):\n",
    "    print df['e_pt'].mean(), ' mean lepton pt'\n",
    "    print df['y'].mean(), ' mean inelasticity'\n",
    "    print df['jet_p'].mean(), ' mean jet p'\n",
    "    print df['jet_pt'].mean(), ' mean jet pT'\n",
    "    print df['jet_qt'].mean(), ' mean jet qT'\n",
    "\n",
    "    #print df['jet_pt'].describe()\n",
    "\n",
    "    print df['x'].mean(), ' mean x'\n",
    "    print df['Q2'].mean(), ' mean Q2'\n",
    "    print df['Q'].mean(), ' mean Q'\n",
    "\n",
    "   # print df['Q2'].describe()\n",
    "    return"
   ]
  },
  {
   "cell_type": "markdown",
   "metadata": {},
   "source": [
    "## Get neutral current data"
   ]
  },
  {
   "cell_type": "code",
   "execution_count": 8,
   "metadata": {},
   "outputs": [
    {
     "name": "stdout",
     "output_type": "stream",
     "text": [
      "\n",
      "Processed NC_10_275.root in 0.5 seconds\n",
      "################### \n",
      "Applying event selection\n",
      "0.1 < y < 0.85 133361  fraction kept: 53.3\n",
      "Q2>100 25028  fraction kept: 18.8\n",
      "################### \n",
      "\n",
      "\n",
      "Processed NC_purephoton_10_275.root in 0.1 seconds\n",
      "################### \n",
      "Applying event selection\n",
      "0.1 < y < 0.85 70890  fraction kept: 70.9\n",
      "Q2>100 70728  fraction kept: 99.8\n",
      "################### \n",
      "\n",
      "\n",
      "Processed CC_10_275.root in 0.0 seconds\n",
      "################### \n",
      "Applying event selection\n",
      "0.1 < y < 0.85 19961  fraction kept: 79.8\n",
      "Q2>100 19961  fraction kept: 100.0\n",
      "################### \n",
      "\n"
     ]
    }
   ],
   "source": [
    "df_inclusive = {}\n",
    "##Neutral current\n",
    "df_inclusive['NC'] = getLeptonData(['NC_10_275.root'])\n",
    "df_inclusive['NC'] = applyEventCuts(df_inclusive['NC'])\n",
    "\n",
    "df_inclusive['NC_photon'] = getLeptonData(['NC_purephoton_10_275.root'])\n",
    "df_inclusive['NC_photon'] = applyEventCuts(df_inclusive['NC_photon'])\n",
    "\n",
    "## Charged current\n",
    "df_inclusive['CC'] = getLeptonData(['CC_10_275.root'])\n",
    "df_inclusive['CC'] = applyEventCuts(df_inclusive['CC'])"
   ]
  },
  {
   "cell_type": "markdown",
   "metadata": {},
   "source": [
    "## Get jet data"
   ]
  },
  {
   "cell_type": "code",
   "execution_count": 10,
   "metadata": {
    "scrolled": true
   },
   "outputs": [
    {
     "name": "stdout",
     "output_type": "stream",
     "text": [
      "\n",
      "Processed NC_10_275.root in 4.5 seconds\n",
      "\n",
      "Processed CC_10_275.root in 0.4 seconds\n",
      "\n",
      "Processed NC_purephoton_10_275.root in 2.2 seconds\n"
     ]
    }
   ],
   "source": [
    "df_jet = {}\n",
    "df_jet['NC'] = getJetData(['NC_10_275.root'])\n",
    "df_jet['CC'] = getJetData(['CC_10_275.root'])\n",
    "df_jet['NC_photon'] = getJetData(['NC_purephoton_10_275.root'])"
   ]
  },
  {
   "cell_type": "code",
   "execution_count": null,
   "metadata": {},
   "outputs": [],
   "source": [
    "rc('text', usetex=False)\n",
    "df_jet['CC'].hist(figsize=(24,24),bins=20)\n",
    "plt.show()"
   ]
  },
  {
   "cell_type": "code",
   "execution_count": null,
   "metadata": {},
   "outputs": [],
   "source": [
    "rc('text', usetex=False)\n",
    "df_jet['CC'].hist(figsize=(24,24),bins=20)\n",
    "plt.show()"
   ]
  },
  {
   "cell_type": "code",
   "execution_count": 17,
   "metadata": {},
   "outputs": [
    {
     "name": "stdout",
     "output_type": "stream",
     "text": [
      "################### \n",
      "Applying event selection\n",
      "0.1 < y < 0.85 13057  fraction kept: 100.0\n",
      "Q2>100 13057  fraction kept: 100.0\n",
      "################### \n",
      "\n",
      "################### \n",
      "Applying jet selection\n",
      " jet pT > 10 GeV 13057  fraction kept: 100.0\n",
      "dphi_e_jet>3.14159-0.4 13057  fraction kept: 100.0\n",
      "################### \n",
      "\n",
      "################### \n",
      "Applying event selection\n",
      "0.1 < y < 0.85 17752  fraction kept: 100.0\n",
      "Q2>100 17752  fraction kept: 100.0\n",
      "################### \n",
      "\n",
      "################### \n",
      "Applying jet selection\n",
      " jet pT > 10 GeV 17752  fraction kept: 100.0\n",
      "dphi_e_jet>3.14159-0.4 17752  fraction kept: 100.0\n",
      "################### \n",
      "\n",
      "################### \n",
      "Applying event selection\n",
      "0.1 < y < 0.85 37943  fraction kept: 100.0\n",
      "Q2>100 37943  fraction kept: 100.0\n",
      "################### \n",
      "\n",
      "################### \n",
      "Applying jet selection\n",
      " jet pT > 10 GeV 37943  fraction kept: 100.0\n",
      "dphi_e_jet>3.14159-0.4 37943  fraction kept: 100.0\n",
      "################### \n",
      "\n"
     ]
    }
   ],
   "source": [
    "df_jet['NC'] = applyEventCuts(df_jet['NC'])\n",
    "df_jet['NC'] = applyJetCuts(df_jet['NC'])\n",
    "\n",
    "df_jet['CC'] = applyEventCuts(df_jet['CC'])\n",
    "df_jet['CC'] = applyJetCuts(df_jet['CC'])\n",
    "\n",
    "\n",
    "df_jet['NC_photon'] = applyEventCuts(df_jet['NC_photon'])\n",
    "df_jet['NC_photon'] = applyJetCuts(df_jet['NC_photon'])\n"
   ]
  },
  {
   "cell_type": "code",
   "execution_count": null,
   "metadata": {},
   "outputs": [],
   "source": [
    "rc('text', usetex=False)\n",
    "df_jet['CC'].hist(figsize=(24,24),bins=20)\n",
    "plt.show()"
   ]
  },
  {
   "cell_type": "code",
   "execution_count": null,
   "metadata": {},
   "outputs": [],
   "source": [
    "rc('text', usetex=False)\n",
    "df_jet['NC'].hist(figsize=(24,24),bins=20)\n",
    "plt.show()"
   ]
  },
  {
   "cell_type": "code",
   "execution_count": 21,
   "metadata": {},
   "outputs": [
    {
     "name": "stdout",
     "output_type": "stream",
     "text": [
      "###########\n",
      "CC\n",
      "22.548552  mean lepton pt\n",
      "0.31052163  mean inelasticity\n",
      "56.453136  mean jet p\n",
      "22.231297  mean jet pT\n",
      "1.7732131  mean jet qT\n",
      "0.24187888  mean x\n",
      "746.29443  mean Q2\n",
      "27.282726  mean Q\n",
      "###########\n",
      "NC_photon\n",
      "22.579166  mean lepton pt\n",
      "0.29700956  mean inelasticity\n",
      "58.42537  mean jet p\n",
      "22.171385  mean jet pT\n",
      "1.769191  mean jet qT\n",
      "0.24895829  mean x\n",
      "732.9769  mean Q2\n",
      "27.041054  mean Q\n",
      "###########\n",
      "NC\n",
      "13.201957  mean lepton pt\n",
      "0.7573081  mean inelasticity\n",
      "13.2635355  mean jet p\n",
      "12.989168  mean jet pT\n",
      "1.5054282  mean jet qT\n",
      "0.087666236  mean x\n",
      "728.7962  mean Q2\n",
      "26.960989  mean Q\n"
     ]
    },
    {
     "data": {
      "image/png": "[encoded data removed]",
      "text/plain": [
       "<matplotlib.figure.Figure at 0x7f87f38cec10>"
      ]
     },
     "metadata": {
      "needs_background": "light"
     },
     "output_type": "display_data"
    }
   ],
   "source": [
    "rc('text', usetex=True)\n",
    "\n",
    "fig = plt.figure(figsize=(8,6))\n",
    "\n",
    "\n",
    "print '###########'\n",
    "print 'CC'\n",
    "\n",
    "df_cut = df_jet['CC'].query('e_pt > %2.2f and e_pt<%2.2f and Q>25 and Q<30 '%(20,25))\n",
    "printSummary(df_cut)    \n",
    "plt.hist(df_cut['jet_qtnormjetpt'],bins=20,range=(0,1.0),normed=True,histtype='step',label='CC')    \n",
    "\n",
    "\n",
    "print '###########'\n",
    "print 'NC_photon'\n",
    "\n",
    "df_cut = df_jet['NC_photon'].query('e_pt > %2.2f and e_pt<%2.2f and Q>25 and Q<30'%(20,25))\n",
    "printSummary(df_cut)    \n",
    "plt.hist(df_cut['jet_qtnormjetpt'],bins=20,range=(0,1.0),normed=True,histtype='step',label='NC (photon only)')    \n",
    " \n",
    "\n",
    "print '###########'\n",
    "print 'NC'\n",
    "\n",
    "df_cut = df_jet['NC'].query('e_pt > %2.2f and e_pt<%2.2f and Q>25 and Q<30'%(10,15))\n",
    "printSummary(df_cut)    \n",
    "plt.hist(df_cut['jet_qtnormjetpt'],bins=20,range=(0,1.0),normed=True,histtype='step',label='NC')    \n",
    " \n",
    "\n",
    "\n",
    "plt.xlabel(r'$q_{T}/p_{\\mathrm{T}}^{jet}$', fontsize=25)\n",
    "plt.ylabel(r'$1/\\sigma_{\\mathrm{DIS}} \\times d\\sigma/dq_{T}$ $\\ \\mathrm{ GeV}^{-1}$ ', fontsize=25)\n",
    "#plt.tick_params('both',labelsize=20)\n",
    "\n",
    "plt.title(r' $ %2.0f< p_{\\mathrm{T}}^{e} < %2.0f$'%(15,20) + r' , $%2.0f<Q<%2.0f \\mathrm{GeV}$'%(20,30), fontsize=21)\n",
    "\n",
    "plt.legend(loc='best',frameon=False,fontsize=20)\n",
    "plt.yticks(fontsize=20)\n",
    "plt.xticks(fontsize=20)\n",
    "plt.savefig('qtplot.png', bbox_inches='tight')\n",
    "plt.savefig('qtplot.pdf', bbox_inches='tight')"
   ]
  },
  {
   "cell_type": "code",
   "execution_count": null,
   "metadata": {},
   "outputs": [],
   "source": []
  }
 ],
 "metadata": {
  "kernelspec": {
   "display_name": "Python 2",
   "language": "python",
   "name": "python2"
  },
  "language_info": {
   "codemirror_mode": {
    "name": "ipython",
    "version": 2
   },
   "file_extension": ".py",
   "mimetype": "text/x-python",
   "name": "python",
   "nbconvert_exporter": "python",
   "pygments_lexer": "ipython2",
   "version": "2.7.12"
  }
 },
 "nbformat": 4,
 "nbformat_minor": 2
}
