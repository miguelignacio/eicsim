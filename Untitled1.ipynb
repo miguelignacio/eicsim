{
 "cells": [
  {
   "cell_type": "code",
   "execution_count": null,
   "metadata": {},
   "outputs": [],
   "source": [
    "# We read the tree from the file and create a RDataFrame.\n",
    "import ROOT \n",
    "%jsroot on\n",
    "columns = ROOT.vector('string')()\n",
    "columns.push_back(\"jet_eta\")\n",
    "columns.push_back(\"jet_pt\")\n",
    "columns.push_back(\"dR_q_jet\")\n",
    "columns.push_back(\"dphi_e_jet\")\n",
    "d = ROOT.ROOT.RDataFrame('T', 'pytree.root', columns)\n",
    "a=d.Filter(\"jet_pt > 4\").Histo1D(\"jet_pt\")\n",
    "#report = d.Report()\n"
   ]
  },
  {
   "cell_type": "code",
   "execution_count": null,
   "metadata": {},
   "outputs": [],
   "source": [
    "c1 = ROOT.TCanvas(\"c1\", \"Profile2D histogram example\", 200, 10, 700, 500)\n",
    "a.Draw()"
   ]
  },
  {
   "cell_type": "code",
   "execution_count": null,
   "metadata": {},
   "outputs": [],
   "source": [
    "hprof2d = d_cut.Profile2D((\"hprof2d\", \"Profile of pz versus px and py\", 40, -4, 4, 40, 0, 40, 0, 2))\n",
    "c2 = ROOT.TCanvas(\"c2\", \"Profile2D histogram example\", 200, 10, 700, 500)\n",
    "ROOT.gStyle.SetPalette(112);\n",
    "hprof2d.Draw('colz')\n",
    "c2.Draw()"
   ]
  }
 ],
 "metadata": {
  "kernelspec": {
   "display_name": "ROOT C++",
   "language": "c++",
   "name": "root"
  }
 },
 "nbformat": 4,
 "nbformat_minor": 2
}
