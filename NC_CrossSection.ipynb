{
 "cells": [
  {
   "cell_type": "code",
   "execution_count": 1,
   "metadata": {},
   "outputs": [
    {
     "name": "stdout",
     "output_type": "stream",
     "text": [
      "Welcome to JupyROOT 6.15/01\n"
     ]
    }
   ],
   "source": [
    "import time\n",
    "import ROOT\n",
    "import numpy as np\n",
    "import pandas as pd\n",
    "import root_pandas as rpd\n",
    "import matplotlib.pyplot as plt\n",
    "import matplotlib.ticker as mticker\n",
    "from matplotlib.colors import LogNorm\n",
    "from root_pandas import read_root\n",
    "from matplotlib import rc\n",
    "from numpy import inf\n",
    "\n",
    "rc('text', usetex=True)"
   ]
  },
  {
   "cell_type": "code",
   "execution_count": 2,
   "metadata": {},
   "outputs": [],
   "source": [
    "def applyCut(inputDataframe, cut, text=None):\n",
    "    dataframe = inputDataframe\n",
    "    nbeforecut = dataframe.shape[0]\n",
    "    cutDataframe = dataframe.query(cut)\n",
    "    if text:\n",
    "        print text, cutDataframe.shape[0], ' fraction kept: %2.1f'%(100.0*float(cutDataframe.shape[0])/nbeforecut)\n",
    "    return cutDataframe"
   ]
  },
  {
   "cell_type": "code",
   "execution_count": 3,
   "metadata": {},
   "outputs": [],
   "source": [
    "def getJetData(inputFiles):\n",
    "    \n",
    "    cols = []\n",
    "    scalar = []\n",
    "    scalar.append('evid')\n",
    "    scalar.append('xsec')\n",
    "    scalar.append('ntrials')    \n",
    "    scalar.append('x')\n",
    "    scalar.append('y')\n",
    "    scalar.append('Q2')\n",
    "    scalar.append('W2')\n",
    "    scalar.append('e_eta')\n",
    "    scalar.append('e_theta')\n",
    "    scalar.append('e_p')\n",
    "    scalar.append('e_pt')\n",
    "\n",
    "    scalar.append('quark_eta')\n",
    "    scalar.append('quark_theta')\n",
    "    scalar.append('quark_p')\n",
    "    scalar.append('quark_pt')\n",
    "    scalar.append('quark_id')\n",
    "    cols.append('n_total')\n",
    "    cols.append('n_charged')\n",
    "    cols.append('jet_eta')\n",
    "    cols.append('jet_theta')\n",
    "    cols.append('jet_p')\n",
    "    cols.append('jet_pt')\n",
    "    cols.append('jet_qt')\n",
    "    cols.append('jet_charge')\n",
    "\n",
    "    cols.append('dphi_e_jet')\n",
    "    cols.append('dR_q_jet')\n",
    "    \n",
    "    lists = scalar\n",
    "    dataframes = []\n",
    "    for inputFilename in inputFiles:\n",
    "        start = time.time()\n",
    "        df = read_root(inputFilename, columns=lists+cols,flatten=cols)\n",
    "        dataframes.append(df)\n",
    "        end = time.time()\n",
    "        print '\\n', 'Processed', inputFilename, 'in',  '%2.1f'%(end-start), 'seconds'\n",
    "    return pd.concat([x for x in dataframes])"
   ]
  },
  {
   "cell_type": "code",
   "execution_count": 4,
   "metadata": {},
   "outputs": [],
   "source": [
    "def printSummary(df):\n",
    "    print df['e_pt'].mean(), ' mean lepton pt'\n",
    "    print df['y'].mean(), ' mean inelasticity'\n",
    "    print df['jet_p'].mean(), ' mean jet p'\n",
    "    print df['jet_pt'].mean(), ' mean jet pT'\n",
    "    print df['jet_pt'].describe()\n",
    "    print df['jet_charge'].mean(), 'mean charge'\n",
    "    print df['x'].mean(), ' mean x'\n",
    "    print df['Q2'].mean(), ' mean Q2'\n",
    "    print df['Q2'].describe()\n",
    "    return"
   ]
  },
  {
   "cell_type": "code",
   "execution_count": 5,
   "metadata": {},
   "outputs": [],
   "source": [
    "def getData(inputFiles):\n",
    "    \n",
    "    cols = []\n",
    "    scalar = []\n",
    "    scalar.append('evid')\n",
    "    scalar.append('xsec')\n",
    "    scalar.append('ntrials')    \n",
    "    scalar.append('x')\n",
    "    scalar.append('y')\n",
    "    scalar.append('Q2')\n",
    "    scalar.append('W2')\n",
    "    scalar.append('e_eta')\n",
    "    scalar.append('e_theta')\n",
    "    scalar.append('e_p')\n",
    "    scalar.append('e_pt')\n",
    "\n",
    "    scalar.append('quark_eta')\n",
    "    scalar.append('quark_theta')\n",
    "    scalar.append('quark_p')\n",
    "    scalar.append('quark_pt')\n",
    "    \n",
    "    \n",
    "    lists = scalar\n",
    "    dataframes = []\n",
    "    for inputFilename in inputFiles:\n",
    "        start = time.time()\n",
    "        df = read_root(inputFilename, columns=lists+cols,flatten=cols)\n",
    "        dataframes.append(df)\n",
    "        end = time.time()\n",
    "        print '\\n', 'Processed', inputFilename, 'in',  '%2.1f'%(end-start), 'seconds'\n",
    "    return pd.concat([x for x in dataframes])"
   ]
  },
  {
   "cell_type": "code",
   "execution_count": 6,
   "metadata": {},
   "outputs": [],
   "source": [
    "def applyCuts(df):\n",
    "    temp = df\n",
    "    temp = applyCut(temp, '0.01 < y < 0.85', '0.1 < y < 0.85')\n",
    "    temp = applyCut(temp, 'Q2>25', 'Q2>25')\n",
    "    #temp = applyCut(temp, 'x > 0.05', 'x>0.05')\n",
    "    temp.eval('logQ2= log(Q2)/2.3025850', inplace=True)\n",
    "    temp.eval('logx= log(x)/2.3025850', inplace=True)\n",
    "    return temp"
   ]
  },
  {
   "cell_type": "code",
   "execution_count": 27,
   "metadata": {},
   "outputs": [],
   "source": [
    "def applyCutsJets(df):\n",
    "    temp = df\n",
    "    temp = applyCut(temp, '0.01 < y < 0.85', '0.01 < y < 0.85')\n",
    "    temp = applyCut(temp, 'Q2>25', 'Q2>25')\n",
    "    temp = applyCut(temp, 'jet_pt>3', 'jet_pt>3')\n",
    "    temp = applyCut(temp, 'jet_eta<3.5', 'jet_eta<3.5')\n",
    "\n",
    "    #temp = applyCut(temp, 'dphi_e_jet > 2.74', 'dphi_e_jet>3.14159-0.4')\n",
    "    #temp = applyCut(temp, 'Q2>100.0', ' Q2>100.0')\n",
    "    \n",
    "    temp.eval('dphi = 3.14159-dphi_e_jet', inplace=True)\n",
    "    temp.eval('jet_qtnorm= jet_qt/sqrt(Q2)', inplace=True)\n",
    "    temp.eval('jet_qtnormjetpt= jet_qt/sqrt(jet_pt)', inplace=True)\n",
    "    temp.eval('jet_qtnormept= jet_qt/sqrt(e_pt)', inplace=True)\n",
    "\n",
    "   # df = applyCut(df, 'n_total>1', ' n>1')\n",
    "    return temp"
   ]
  },
  {
   "cell_type": "markdown",
   "metadata": {},
   "source": [
    "## Get Data"
   ]
  },
  {
   "cell_type": "code",
   "execution_count": 8,
   "metadata": {},
   "outputs": [
    {
     "name": "stdout",
     "output_type": "stream",
     "text": [
      "\n",
      "Processed NCDIS_10275_R05.root in 3.4 seconds\n",
      "xsection 56778.52 [pb]\n",
      "accepted events 999979\n",
      "0.1 < y < 0.85 863880  fraction kept: 86.4\n",
      "Q2>25 292175  fraction kept: 33.8\n",
      "Accepted cross-section: 16590 [pb]\n"
     ]
    }
   ],
   "source": [
    "#df = getData(['NC_10_275.root'])\n",
    "df = getData(['NCDIS_10275_R05.root'])\n",
    "\n",
    "xsec = np.mean(df['xsec'])\n",
    "xsec = xsec*1e9\n",
    "print 'xsection %2.2f [pb]' %(xsec)\n",
    "accepted = df.shape[0]\n",
    "print 'accepted events' , accepted\n",
    "to_cross_section = xsec/(1.0*accepted)\n",
    "\n",
    "df = applyCuts(df)\n",
    "print 'Accepted cross-section: %2.0f [pb]'%(df.shape[0]*to_cross_section)"
   ]
  },
  {
   "cell_type": "markdown",
   "metadata": {},
   "source": [
    "## Inclusive rate"
   ]
  },
  {
   "cell_type": "code",
   "execution_count": 9,
   "metadata": {},
   "outputs": [
    {
     "name": "stdout",
     "output_type": "stream",
     "text": [
      "Integrated rate 5677.852 [M]\n"
     ]
    }
   ],
   "source": [
    "##Total cross-section: \n",
    "## in units of fb:\n",
    "lumi = 100 # in units of fb-1. \n",
    "integrated_rate    = 1000*lumi*xsec #multiply by 1000 and then 100 to get integrated yield for 100 fb-1\n",
    "print 'Integrated rate %2.3f [M]' %(integrated_rate/1e6)\n",
    "to_counts = to_cross_section*1000*lumi"
   ]
  },
  {
   "cell_type": "markdown",
   "metadata": {},
   "source": [
    "## Plot all variables in the electron beam"
   ]
  },
  {
   "cell_type": "code",
   "execution_count": 10,
   "metadata": {},
   "outputs": [
    {
     "data": {
      "image/png": "[encoded data removed]",
      "text/plain": [
       "<matplotlib.figure.Figure at 0x7f10099cffd0>"
      ]
     },
     "metadata": {
      "needs_background": "light"
     },
     "output_type": "display_data"
    }
   ],
   "source": [
    "rc('text', usetex=False)\n",
    "df.hist(figsize=(24,24),bins=50,column=['x','Q2','logx','logQ2','y'])\n",
    "plt.show()"
   ]
  },
  {
   "cell_type": "markdown",
   "metadata": {},
   "source": [
    "## Get jet data, apply selection"
   ]
  },
  {
   "cell_type": "code",
   "execution_count": 28,
   "metadata": {
    "scrolled": true
   },
   "outputs": [
    {
     "name": "stdout",
     "output_type": "stream",
     "text": [
      "\n",
      "Processed NCDIS_10275_R05.root in 68.3 seconds\n",
      "0.01 < y < 0.85 619046  fraction kept: 91.2\n",
      "Q2>25 300535  fraction kept: 48.5\n",
      "jet_pt>3 223469  fraction kept: 74.4\n",
      "jet_eta<3.5 220457  fraction kept: 98.7\n"
     ]
    }
   ],
   "source": [
    "#df_jet      = getJetData(['NC_10_275.root'])\n",
    "df_jet      = getJetData(['NCDIS_10275_R05.root'])\n",
    "\n",
    "df_jet = applyCutsJets(df_jet)"
   ]
  },
  {
   "cell_type": "markdown",
   "metadata": {},
   "source": [
    "## Plot jet variables"
   ]
  },
  {
   "cell_type": "code",
   "execution_count": 12,
   "metadata": {
    "scrolled": true
   },
   "outputs": [
    {
     "data": {
      "image/png": "[encoded data removed]",
      "text/plain": [
       "<matplotlib.figure.Figure at 0x7f10087737d0>"
      ]
     },
     "metadata": {
      "needs_background": "light"
     },
     "output_type": "display_data"
    }
   ],
   "source": [
    "rc('text', usetex=False)\n",
    "df_jet.hist(figsize=(24,24),bins=100)\n",
    "plt.show()"
   ]
  },
  {
   "cell_type": "markdown",
   "metadata": {},
   "source": [
    "## Inclusive cross-section"
   ]
  },
  {
   "cell_type": "code",
   "execution_count": 13,
   "metadata": {},
   "outputs": [
    {
     "data": {
      "text/plain": [
       "<Container object of 3 artists>"
      ]
     },
     "execution_count": 13,
     "metadata": {},
     "output_type": "execute_result"
    },
    {
     "data": {
      "image/png": "[encoded data removed]",
      "text/plain": [
       "<matplotlib.figure.Figure at 0x7f10017d81d0>"
      ]
     },
     "metadata": {
      "needs_background": "light"
     },
     "output_type": "display_data"
    }
   ],
   "source": [
    "rc('text', usetex=True)\n",
    "\n",
    "fig, ax1 = plt.subplots(figsize=(15,6))\n",
    "\n",
    "##Electron distribution\n",
    "plt.subplot(121)\n",
    "y, x  = np.histogram(df['logQ2'],bins=np.linspace(1.4,4,12))\n",
    "xerr = (x[1:] - x[:-1])/2.0\n",
    "x = (x[1:]+x[:-1])/2\n",
    "y = y*to_cross_section\n",
    "y = y/(xerr*2.0)\n",
    "\n",
    "plt.errorbar(x,y,  xerr = xerr, fmt='.',ls='none')\n",
    "plt.yticks(fontsize=16)\n",
    "plt.xticks(fontsize=16)\n",
    "plt.xlabel('log ($Q^{2}$/$\\mathrm{GeV}^{2}$)',fontsize=18)\n",
    "plt.ylabel(r'd$\\sigma$/d log($Q^{2}$) [pb]',fontsize=18)\n",
    "plt.title('$\\mathrm{NC}\\ \\mathrm{DIS}$, $5+100$ $\\mathrm{GeV}$, $0.1<y<0.95$', fontsize=18)\n",
    "\n",
    "\n",
    "plt.subplot(122)\n",
    "y, x  = np.histogram(df['logx'],bins=np.linspace(-3.0,0,12))\n",
    "xerr = (x[1:] - x[:-1])/2.0\n",
    "x = (x[1:]+x[:-1])/2\n",
    "y = y*to_cross_section\n",
    "y = y/(xerr*2.0)\n",
    "\n",
    "plt.yticks(fontsize=16)\n",
    "plt.xticks(fontsize=16)\n",
    "plt.xlabel('log (x)',fontsize=18)\n",
    "plt.ylabel(r'd$\\sigma$/d log(x) [pb]',fontsize=18)\n",
    "plt.title('$\\mathrm{NC}\\ \\mathrm{DIS}$, $10+275$ $\\mathrm{GeV}$, $0.1<y<0.95$', fontsize=18)\n",
    "plt.errorbar(x,y,  xerr = xerr, fmt='.',ls='none')"
   ]
  },
  {
   "cell_type": "code",
   "execution_count": 14,
   "metadata": {},
   "outputs": [
    {
     "name": "stdout",
     "output_type": "stream",
     "text": [
      "Cross section [1.31820854e+08 1.96830080e+07 1.82440381e+06 6.29484798e+04]\n"
     ]
    },
    {
     "name": "stderr",
     "output_type": "stream",
     "text": [
      "/usr/local/lib/python2.7/dist-packages/matplotlib/axes/_axes.py:545: UserWarning: No labelled objects found. Use label='...' kwarg on individual plots.\n",
      "  warnings.warn(\"No labelled objects found. \"\n"
     ]
    },
    {
     "data": {
      "image/png": "[encoded data removed]",
      "text/plain": [
       "<matplotlib.figure.Figure at 0x7f100874a8d0>"
      ]
     },
     "metadata": {
      "needs_background": "light"
     },
     "output_type": "display_data"
    }
   ],
   "source": [
    "import seaborn as sns\n",
    "nbins = 5\n",
    "minpt = 5\n",
    "maxpt = max(df['e_pt'])\n",
    "fig, ax1 = plt.subplots(figsize=(8,6))\n",
    "\n",
    "##Electron distribution\n",
    "y, x  = np.histogram(df.query('e_pt>5')['e_pt'],bins=np.logspace(np.log10(minpt),np.log10(maxpt),nbins))\n",
    "xerr = (x[1:] - x[:-1])/2.0\n",
    "x = (x[1:]+x[:-1])/2\n",
    "y = y*to_cross_section\n",
    "y = y*1000*lumi \n",
    "yerr = np.sqrt(y)\n",
    "\n",
    "y = y/(xerr*2.0)\n",
    "yerr = yerr/(xerr*2.0)\n",
    "\n",
    "plt.errorbar(x,y, yerr=yerr,  xerr = xerr, fmt='.',ls='none',label=r'$\\mathrm{electron}$')\n",
    "\n",
    "\n",
    "y, x  = np.histogram(df_jet.query('jet_pt>5')['jet_pt'],bins=np.logspace(np.log10(minpt),np.log10(maxpt),nbins))\n",
    "xerr = (x[1:] - x[:-1])/2.0\n",
    "x = (x[1:]+x[:-1])/2\n",
    "y = y*to_cross_section\n",
    "y = y*1000*lumi \n",
    "\n",
    "yerr = np.sqrt(y)\n",
    "y = y/(xerr*2.0)\n",
    "yerr = yerr/(xerr*2.0)\n",
    "print 'Cross section', y \n",
    "plt.errorbar(x,y, yerr=yerr,xerr = xerr, fmt='o',ls='none',markersize=8,fillstyle='none',label='$\\mathrm{jet}$, $\\mathrm{anti}$-$k_{T}$ $R=1.0$')\n",
    "\n",
    "plt.yscale('log')\n",
    "ax1.set_xlabel(r'$\\mathrm{Lab}$\\ $\\mathrm{frame}$ $p_{\\mathrm{T}}$ $\\mathrm{[GeV]}$' ,fontsize=18)\n",
    "ax1.set_ylabel(r'$d\\sigma/d p_{\\mathrm{T}} \\times 100 \\, fb^{-1}$ [$\\mathrm{GeV^{-1}}$]', fontsize=18)\n",
    "plt.title('$\\mathrm{NC}$ \\ $\\mathrm{DIS}$, $5+100$\\ $\\mathrm{GeV}$, $0.1 < y < 0.85$ , $Q^2 > 100\\ \\mathrm{GeV^2}$',   fontsize=18)\n",
    "plt.yticks(fontsize=18)\n",
    "plt.xticks(fontsize=18)\n",
    "plt.legend(loc='best',frameon=False,fontsize=18)#bbox_to_anchor=(0.40, 0.85\n",
    "\n",
    "ax1.tick_params('both',labelsize=20)\n",
    "\n",
    "###Mean x vs pT\n",
    "ax2 = ax1.twinx()\n",
    "ax2.tick_params(axis='y', labelcolor='red')\n",
    "sns.regplot(df['e_pt'], df['x'], x_bins=np.logspace(np.log10(minpt),np.log10(maxpt),nbins),fit_reg=None,color='red')\n",
    "ax2.set_ylabel('Mean $x$' ,color='red',fontsize=16)\n",
    "plt.yticks(fontsize=18)\n",
    "plt.xticks(fontsize=18)\n",
    "ax2.set_ylim([0.0,1.0])\n",
    "#ax2.scale('log')\n",
    "\n",
    "\n",
    "\n",
    "plt.savefig('CrossSection_NC.png', bbox_inches='tight')\n",
    "plt.savefig('CrossSection_NC.pdf', bbox_inches='tight')\n",
    "\n",
    "plt.legend(loc='best',frameon=False,fontsize=15,bbox_to_anchor=(0.40, 0.85))"
   ]
  },
  {
   "cell_type": "code",
   "execution_count": 29,
   "metadata": {},
   "outputs": [
    {
     "name": "stdout",
     "output_type": "stream",
     "text": [
      "count    17052.000000\n",
      "mean        54.562160\n",
      "std         44.030338\n",
      "min         25.003036\n",
      "25%         32.316390\n",
      "50%         42.270927\n",
      "75%         61.275061\n",
      "max       1644.162476\n",
      "Name: Q2, dtype: float64\n",
      "Cross section [1.58928359e+07 1.15834077e+07 8.15667728e+06 5.31354780e+06\n",
      " 2.95144542e+06 1.31352122e+06 3.85171788e+05 7.26432811e+04\n",
      " 6.97141115e+03]\n"
     ]
    },
    {
     "data": {
      "image/png": "[encoded data removed]",
      "text/plain": [
       "<matplotlib.figure.Figure at 0x7f1000fb3490>"
      ]
     },
     "metadata": {
      "needs_background": "light"
     },
     "output_type": "display_data"
    }
   ],
   "source": [
    "import seaborn as sns\n",
    "nbins = 10\n",
    "minpt = 20\n",
    "maxpt = max(df_jet['jet_p'])\n",
    "fig, ax1 = plt.subplots(figsize=(8,6))\n",
    "print df_jet.query('jet_eta<3.5 and jet_eta>3.0')['Q2'].describe()\n",
    "\n",
    "y, x  = np.histogram(df_jet.query('jet_pt>3 and Q2>25')['jet_p'],bins=np.logspace(np.log10(minpt),np.log10(maxpt),nbins))\n",
    "xerr = (x[1:] - x[:-1])/2.0\n",
    "x = (x[1:]+x[:-1])/2\n",
    "y = y*to_cross_section\n",
    "y = y*1000*lumi \n",
    "\n",
    "yerr = np.sqrt(y)\n",
    "y = y/(xerr*2.0)\n",
    "yerr = yerr/(xerr*2.0)\n",
    "print 'Cross section', y \n",
    "plt.errorbar(x,y, yerr=yerr,xerr = xerr, fmt='o',ls='none',markersize=8,fillstyle='none',label='$\\mathrm{jet}$, $\\mathrm{anti}$-$k_{T}$ $R=0.5$')\n",
    "\n",
    "plt.yscale('log')\n",
    "ax1.set_xlabel(r'$\\mathrm{Jet}$\\ $\\mathrm{energy}$ $\\mathrm{[GeV]}$' ,fontsize=18)\n",
    "ax1.set_ylabel(r'$d\\sigma/d p_{\\mathrm{T}} \\times 100 \\, fb^{-1}$ [$\\mathrm{GeV^{-1}}$]', fontsize=18)\n",
    "plt.title('$\\mathrm{NC}$ \\ $\\mathrm{DIS}$, $10+275$\\ $\\mathrm{GeV}$',  fontsize=18)\n",
    "plt.yticks(fontsize=18)\n",
    "plt.xticks(fontsize=18)\n",
    "plt.legend(loc='best',frameon=False,fontsize=18)#bbox_to_anchor=(0.40, 0.85\n",
    "\n",
    "ax1.tick_params('both',labelsize=20)\n",
    "\n",
    "###Mean x vs pT\n",
    "ax2 = ax1.twinx()\n",
    "ax2.tick_params(axis='y', labelcolor='red')\n",
    "sns.regplot(df_jet['jet_p'], df_jet['jet_eta'], x_bins=np.logspace(np.log10(minpt),np.log10(maxpt),nbins),fit_reg=None,color='red')\n",
    "ax2.set_ylabel('Mean $\\eta$' ,color='red',fontsize=16)\n",
    "plt.yticks(fontsize=18)\n",
    "plt.xticks(fontsize=18)\n",
    "#ax2.set_ylim([0.0,1.0])\n",
    "#ax2.scale('log')\n",
    "\n",
    "\n",
    "\n",
    "plt.savefig('CrossSection_Energy_NC.png', bbox_inches='tight')\n",
    "plt.savefig('CrossSection_Energy_NC.pdf', bbox_inches='tight')\n",
    "\n",
    "plt.legend(loc='best',frameon=False,fontsize=15,bbox_to_anchor=(0.40, 0.85))"
   ]
  },
  {
   "cell_type": "code",
   "execution_count": 65,
   "metadata": {},
   "outputs": [
    {
     "data": {
      "image/png": "[encoded data removed]",
      "text/plain": [
       "<matplotlib.figure.Figure at 0x7f0fff60ec90>"
      ]
     },
     "metadata": {
      "needs_background": "light"
     },
     "output_type": "display_data"
    }
   ],
   "source": [
    "fig, ax1 = plt.subplots(figsize=(8,6))\n",
    "plt.yticks(fontsize=16)\n",
    "plt.xticks(fontsize=16)\n",
    "\n",
    "plt.hist2d(df_jet.query('jet_eta<3.5 and jet_qtnormjetpt<0.3')['x'],df_jet.query('jet_eta<3.5 and jet_qtnormjetpt<0.3')['Q2'], bins=(10,100),norm=LogNorm(),range=([0.0,0.8],[25,1000]))\n",
    "plt.xlabel('x',fontsize=18)\n",
    "plt.ylabel(r'Q^{2}',fontsize=18)\n",
    "plt.title(r'10x275 GeV, jet $\\eta<$3.5, $q_{T}/p_{T}^{jet} <$ 0.3', fontsize=18)\n",
    "plt.yscale('log')\n",
    "plt.savefig('xQ2forjet.png', bbox_inches='tight')"
   ]
  },
  {
   "cell_type": "code",
   "execution_count": 66,
   "metadata": {},
   "outputs": [
    {
     "data": {
      "image/png": "[encoded data removed]",
      "text/plain": [
       "<matplotlib.figure.Figure at 0x7f1000f98ed0>"
      ]
     },
     "metadata": {
      "needs_background": "light"
     },
     "output_type": "display_data"
    }
   ],
   "source": [
    "fig, ax1 = plt.subplots(figsize=(8,6))\n",
    "plt.yticks(fontsize=16)\n",
    "plt.xticks(fontsize=16)\n",
    "\n",
    "plt.hist2d(df_jet.query('jet_eta>3.0 and jet_qtnormjetpt<0.3')['x'],df_jet.query('jet_eta>3.0 and jet_qtnormjetpt<0.3')['Q2'], bins=(10,100),norm=LogNorm(),range=([0.0,0.8],[25,1000]))\n",
    "plt.xlabel('x',fontsize=18)\n",
    "plt.ylabel(r'Q^{2}',fontsize=18)\n",
    "plt.title(r'10x275 GeV, jet $\\eta>$3.0, $q_{T}/p_{T}^{jet} <$ 0.3', fontsize=18)\n",
    "plt.yscale('log')\n",
    "\n",
    "plt.savefig('xQ2forjet_forward.png', bbox_inches='tight')"
   ]
  },
  {
   "cell_type": "code",
   "execution_count": 67,
   "metadata": {},
   "outputs": [
    {
     "data": {
      "image/png": "[encoded data removed]",
      "text/plain": [
       "<matplotlib.figure.Figure at 0x7f10008b8410>"
      ]
     },
     "metadata": {
      "needs_background": "light"
     },
     "output_type": "display_data"
    }
   ],
   "source": [
    "fig, ax1 = plt.subplots(figsize=(8,6))\n",
    "plt.yticks(fontsize=16)\n",
    "plt.xticks(fontsize=16)\n",
    "\n",
    "plt.hist2d(df_jet.query('jet_eta<3.0 and jet_qtnormjetpt<0.3')['x'],df_jet.query('jet_eta<3.0 and jet_qtnormjetpt<0.3')['Q2'],bins=(10,100),norm=LogNorm(),range=([0.0,0.8],[25,1000]))\n",
    "plt.xlabel('x',fontsize=18)\n",
    "plt.ylabel(r'Q^{2}',fontsize=18)\n",
    "plt.title(r'10x275 GeV, jet $\\eta<$3.0, $q_{T}/p_{T}^{jet} <$ 0.3', fontsize=18)\n",
    "plt.yscale('log')\n",
    "\n",
    "plt.savefig('xQ2forjet_restricted.png', bbox_inches='tight')"
   ]
  },
  {
   "cell_type": "markdown",
   "metadata": {},
   "source": [
    "## Flavour separated cross-sections"
   ]
  },
  {
   "cell_type": "code",
   "execution_count": null,
   "metadata": {},
   "outputs": [],
   "source": []
  },
  {
   "cell_type": "code",
   "execution_count": null,
   "metadata": {},
   "outputs": [],
   "source": [
    "import seaborn as sns\n",
    "nbins = 5\n",
    "minpt = 5\n",
    "maxpt = df['e_pt'].max()\n",
    "fig, ax1 = plt.subplots(figsize=(8,6))\n",
    "\n",
    "##Electron distribution\n",
    "#y, x  = np.histogram(df_inclusive.query('e_pt>5')['e_pt'],bins=np.logspace(np.log10(minpt),np.log10(maxpt),nbins))\n",
    "#xerr = (x[1:] - x[:-1])/2.0\n",
    "#x = (x[1:]+x[:-1])/2\n",
    "#y = y*to_counts\n",
    "#yerr = np.sqrt(y)\n",
    "\n",
    "#y = y/(xerr*2.0)\n",
    "#yerr = yerr/(xerr*2.0)\n",
    "\n",
    "#plt.errorbar(x,y, yerr=yerr,  xerr = xerr, fmt='.',ls='none',label=r'$\\nu$')\n",
    "\n",
    "\n",
    "##Inclusive\n",
    "\n",
    "y, x  = np.histogram(df_jet.query('jet_pt>5')['jet_pt'],bins=np.logspace(np.log10(minpt),np.log10(maxpt),nbins))\n",
    "xerr = (x[1:] - x[:-1])/2.0\n",
    "x = (x[1:]+x[:-1])/2\n",
    "y = y*to_counts\n",
    "\n",
    "yerr = np.sqrt(y)\n",
    "y = y/(xerr*2.0)\n",
    "yerr = yerr/(xerr*2.0)\n",
    "inclusive = y \n",
    "print 'inclusive Cross section', y \n",
    "plt.errorbar(x,y, yerr=yerr,xerr = xerr, fmt='o',ls='none',markersize=8,fillstyle='none',label='inclusive jets')\n",
    "\n",
    "y, x  = np.histogram(df_jet.query('jet_pt>5 and abs(quark_id)==2')['jet_pt'],bins=np.logspace(np.log10(minpt),np.log10(maxpt),nbins))\n",
    "xerr = (x[1:] - x[:-1])/2.0\n",
    "x = (x[1:]+x[:-1])/2\n",
    "y = y*to_counts\n",
    "\n",
    "yerr = np.sqrt(y)\n",
    "y = y/(xerr*2.0)\n",
    "yerr = yerr/(xerr*2.0)\n",
    "ujets = y\n",
    "print 'u-jets cross section', ujets\n",
    "plt.errorbar(x,y, yerr=yerr,xerr = xerr, fmt='o',ls='none',markersize=8,fillstyle='none',label='u-jets')\n",
    "\n",
    "\n",
    "\n",
    "y, x  = np.histogram(df_jet.query('jet_pt>5 and abs(quark_id)==1')['jet_pt'],bins=np.logspace(np.log10(minpt),np.log10(maxpt),nbins))\n",
    "xerr = (x[1:] - x[:-1])/2.0\n",
    "x = (x[1:]+x[:-1])/2\n",
    "y = y*to_counts\n",
    "\n",
    "yerr = np.sqrt(y)\n",
    "y = y/(xerr*2.0)\n",
    "yerr = yerr/(xerr*2.0)\n",
    "djets = y\n",
    "print 'Cross section', djets\n",
    "plt.errorbar(x,y, yerr=yerr,xerr = xerr, fmt='o',ls='none',markersize=8,fillstyle='none',label='d-jets')\n",
    "\n",
    "\n",
    "\n",
    "y, x  = np.histogram(df_jet.query('jet_pt>5 and abs(quark_id)==3')['jet_pt'],bins=np.logspace(np.log10(minpt),np.log10(maxpt),nbins))\n",
    "xerr = (x[1:] - x[:-1])/2.0\n",
    "x = (x[1:]+x[:-1])/2\n",
    "y = y*to_counts\n",
    "\n",
    "yerr = np.sqrt(y)\n",
    "y = y/(xerr*2.0)\n",
    "yerr = yerr/(xerr*2.0)\n",
    "sjets = y\n",
    "print 'Cross section', sjets\n",
    "plt.errorbar(x,y, yerr=yerr,xerr = xerr, fmt='o',ls='none',markersize=8,fillstyle='none',label='s-jets')\n",
    "\n",
    "plt.yscale('log')\n",
    "ax1.set_xlabel('Lab frame $p_{T}$ (GeV)' ,fontsize=18)\n",
    "ax1.set_ylabel(r'$d\\sigma/d p_{\\mathrm{T}} \\times 100 \\, fb^{-1}$ [$\\mathrm{GeV^{-1}}$]', fontsize=18)\n",
    "#plt.title('$\\mathrm{CC-DIS}, 10+275 \\mathrm{GeV}$, $0.01 < y < 0.9$ , $Q^2 > 100\\ \\mathrm{GeV^2}$',   fontsize=15)\n",
    "plt.title('$\\mathrm{NC-DIS}, 5+100 \\mathrm{GeV}$, $0.1 < y < 0.85$ , $Q^2 > 100\\ \\mathrm{GeV^2}$',   fontsize=15)\n",
    "\n",
    "plt.yticks(fontsize=16)\n",
    "plt.xticks(fontsize=16)\n",
    "plt.legend(loc='best',frameon=False,fontsize=18)#bbox_to_anchor=(0.40, 0.85\n",
    "\n",
    "\n",
    "#ax1.set_ylim([1e3,1e5])\n",
    "\n",
    "###Mean x vs pT\n",
    "#ax2 = ax1.twinx()\n",
    "#ax2.tick_params(axis='y', labelcolor='grey')\n",
    "#sns.regplot(df_inclusive['e_pt'], df_inclusive['x'], x_bins=np.logspace(np.log10(minpt),np.log10(maxpt),nbins),fit_reg=None,color='grey')\n",
    "#ax2.set_ylabel('Mean x' ,color='grey',fontsize=16)\n",
    "#plt.yticks(fontsize=16)\n",
    "#plt.xticks(fontsize=16)\n",
    "#ax2.set_ylim([0.0,1.0])\n",
    "##ax2.scale('log')\n",
    "plt.savefig('CrossSection_NC_flavourseparated.png', bbox_inches='tight')\n",
    "plt.savefig('CrossSection_NC_flavourseparated.pdf', bbox_inches='tight')\n",
    "\n",
    "djets_to_inclusive = djets/inclusive\n",
    "sjets_to_inclusive = sjets/inclusive\n",
    "\n",
    "print 'djets to inclusive', djets_to_inclusive\n",
    "\n",
    "\n",
    "\n",
    "fig, ax1 = plt.subplots(figsize=(8,6))\n",
    "plt.plot(x,djets_to_inclusive ,label='d jets' )\n",
    "plt.plot(x,sjets_to_inclusive, label =' s jets')\n",
    "\n",
    "plt.yticks(fontsize=16)\n",
    "plt.xticks(fontsize=16)\n",
    "plt.legend(loc='best',frameon=False,fontsize=18)#bbox_to_anchor=(0.40, 0.85\n",
    "plt.xlabel('Lab frame $p_{T}$ (GeV)' ,fontsize=20)\n",
    "plt.ylabel('Ratio to inclusive',fontsize=20)\n",
    "plt.savefig('CrossSection_NC_flavourseparated_ratio.png', bbox_inches='tight')\n",
    "plt.savefig('CrossSection_NC_flavourseparated_ratio.pdf', bbox_inches='tight')\n",
    "#plt.legend(loc='best',frameon=False,fontsize=15,bbox_to_anchor=(0.40, 0.85))"
   ]
  },
  {
   "cell_type": "code",
   "execution_count": null,
   "metadata": {},
   "outputs": [],
   "source": [
    "import seaborn as sns\n",
    "nbins = 5\n",
    "minpt = 5\n",
    "maxpt = df['e_pt'].max()\n",
    "fig, ax1 = plt.subplots(figsize=(8,6))\n",
    "\n",
    "df_temp = df_jet.query('jet_pt>5 and jet_charge<-0.5')\n",
    "\n",
    "y, x  = np.histogram(df_temp['jet_pt'],bins=np.logspace(np.log10(minpt),np.log10(maxpt),nbins))\n",
    "xerr = (x[1:] - x[:-1])/2.0\n",
    "x = (x[1:]+x[:-1])/2\n",
    "y = y*to_counts\n",
    "\n",
    "yerr = np.sqrt(y)\n",
    "y = y/(xerr*2.0)\n",
    "yerr = yerr/(xerr*2.0)\n",
    "inclusive = y \n",
    "print 'inclusive Cross section', y \n",
    "plt.errorbar(x,y, yerr=yerr,xerr = xerr, fmt='o',ls='none',markersize=8,fillstyle='none',label='inclusive jets')\n",
    "\n",
    "y, x  = np.histogram(df_temp.query('abs(quark_id)==2')['jet_pt'],bins=np.logspace(np.log10(minpt),np.log10(maxpt),nbins))\n",
    "xerr = (x[1:] - x[:-1])/2.0\n",
    "x = (x[1:]+x[:-1])/2\n",
    "y = y*to_counts\n",
    "\n",
    "yerr = np.sqrt(y)\n",
    "y = y/(xerr*2.0)\n",
    "yerr = yerr/(xerr*2.0)\n",
    "ujets = y\n",
    "print 'u-jets cross section', ujets\n",
    "plt.errorbar(x,y, yerr=yerr,xerr = xerr, fmt='o',ls='none',markersize=8,fillstyle='none',label='u-jets')\n",
    "\n",
    "\n",
    "\n",
    "y, x  = np.histogram(df_temp.query('abs(quark_id)==1')['jet_pt'],bins=np.logspace(np.log10(minpt),np.log10(maxpt),nbins))\n",
    "xerr = (x[1:] - x[:-1])/2.0\n",
    "x = (x[1:]+x[:-1])/2\n",
    "y = y*to_counts\n",
    "\n",
    "yerr = np.sqrt(y)\n",
    "y = y/(xerr*2.0)\n",
    "yerr = yerr/(xerr*2.0)\n",
    "djets = y\n",
    "print 'Cross section', djets\n",
    "plt.errorbar(x,y, yerr=yerr,xerr = xerr, fmt='o',ls='none',markersize=8,fillstyle='none',label='d-jets')\n",
    "\n",
    "\n",
    "\n",
    "y, x  = np.histogram(df_temp.query('abs(quark_id)==3')['jet_pt'],bins=np.logspace(np.log10(minpt),np.log10(maxpt),nbins))\n",
    "xerr = (x[1:] - x[:-1])/2.0\n",
    "x = (x[1:]+x[:-1])/2\n",
    "y = y*to_counts\n",
    "\n",
    "yerr = np.sqrt(y)\n",
    "y = y/(xerr*2.0)\n",
    "yerr = yerr/(xerr*2.0)\n",
    "sjets = y\n",
    "print 'Cross section', sjets\n",
    "plt.errorbar(x,y, yerr=yerr,xerr = xerr, fmt='o',ls='none',markersize=8,fillstyle='none',label='s-jets')\n",
    "\n",
    "plt.yscale('log')\n",
    "ax1.set_xlabel('Lab frame $p_{T}$ (GeV)' ,fontsize=18)\n",
    "ax1.set_ylabel(r'$d\\sigma/d p_{\\mathrm{T}} \\times 100 \\, fb^{-1}$ [$\\mathrm{GeV^{-1}}$]', fontsize=18)\n",
    "#plt.title('$\\mathrm{CC-DIS}, 10+275 \\mathrm{GeV}$, $0.01 < y < 0.9$ , $Q^2 > 100\\ \\mathrm{GeV^2}$',   fontsize=15)\n",
    "plt.title('$\\mathrm{NC-DIS}, 5+100 \\mathrm{GeV}$, $0.1 < y < 0.85$ , $Q^2 > 50\\ \\mathrm{GeV^2}$',   fontsize=15)\n",
    "\n",
    "plt.yticks(fontsize=16)\n",
    "plt.xticks(fontsize=16)\n",
    "plt.legend(loc='best',frameon=False,fontsize=18)#bbox_to_anchor=(0.40, 0.85\n",
    "\n",
    "\n",
    "#ax1.set_ylim([1e3,1e5])\n",
    "\n",
    "###Mean x vs pT\n",
    "#ax2 = ax1.twinx()\n",
    "#ax2.tick_params(axis='y', labelcolor='grey')\n",
    "#sns.regplot(df_inclusive['e_pt'], df_inclusive['x'], x_bins=np.logspace(np.log10(minpt),np.log10(maxpt),nbins),fit_reg=None,color='grey')\n",
    "#ax2.set_ylabel('Mean x' ,color='grey',fontsize=16)\n",
    "#plt.yticks(fontsize=16)\n",
    "#plt.xticks(fontsize=16)\n",
    "#ax2.set_ylim([0.0,1.0])\n",
    "##ax2.scale('log')\n",
    "plt.savefig('CrossSection_NC_flavourseparated.png', bbox_inches='tight')\n",
    "plt.savefig('CrossSection_NC_flavourseparated.pdf', bbox_inches='tight')\n",
    "\n",
    "djets_to_inclusive = djets/inclusive\n",
    "sjets_to_inclusive = sjets/inclusive\n",
    "\n",
    "print 'djets to inclusive', djets_to_inclusive\n",
    "\n",
    "\n",
    "\n",
    "fig, ax1 = plt.subplots(figsize=(8,6))\n",
    "plt.plot(x,djets_to_inclusive ,label='d jets' )\n",
    "plt.plot(x,sjets_to_inclusive, label =' s jets')\n",
    "\n",
    "plt.yticks(fontsize=16)\n",
    "plt.xticks(fontsize=16)\n",
    "plt.legend(loc='best',frameon=False,fontsize=18)#bbox_to_anchor=(0.40, 0.85\n",
    "plt.xlabel('Lab frame $p_{T}$ (GeV)' ,fontsize=20)\n",
    "plt.ylabel('Ratio to inclusive',fontsize=20)\n",
    "plt.savefig('CrossSection_NC_flavourseparated_ratio.png', bbox_inches='tight')\n",
    "plt.savefig('CrossSection_NC_flavourseparated_ratio.pdf', bbox_inches='tight')\n",
    "#plt.legend(loc='best',frameon=False,fontsize=15,bbox_to_anchor=(0.40, 0.85))"
   ]
  },
  {
   "cell_type": "code",
   "execution_count": null,
   "metadata": {
    "scrolled": true
   },
   "outputs": [],
   "source": [
    "df_jet.query('jet_pt>15')['x'].describe()"
   ]
  },
  {
   "cell_type": "code",
   "execution_count": null,
   "metadata": {},
   "outputs": [],
   "source": [
    "plt.hist(df_jet.query('x>0.6')['jet_pt'])\n"
   ]
  },
  {
   "cell_type": "markdown",
   "metadata": {},
   "source": [
    "## Maximum pT"
   ]
  },
  {
   "cell_type": "code",
   "execution_count": null,
   "metadata": {
    "scrolled": true
   },
   "outputs": [],
   "source": [
    "print max(df['e_pt'])\n",
    "print min(df['Q2'])"
   ]
  },
  {
   "cell_type": "code",
   "execution_count": null,
   "metadata": {},
   "outputs": [],
   "source": [
    "n = df.query('x>0.1 and x<0.2 and y<0.85').shape[0]\n",
    "print n*to_counts\n",
    "\n",
    "jets = df_jet.query('x>0.1 and x<0.2 and y<0.85').shape[0]\n",
    "jets = jets*to_counts\n",
    "print jets\n",
    "jets = df_jet.query('x>0.1 and x<0.2 and y>0.1 and y<0.85 and jet_qtnormjetpt<0.3').shape[0]\n",
    "jets = jets*to_counts\n",
    "print jets\n",
    "\n",
    "print df_jet.query('x>0.1 and x<0.2 and y>0.1 and y<0.85 and jet_qtnormjetpt<0.3')['jet_pt'].mean()\n",
    "print df_jet.query('x>0.1 and x<0.2 and y>0.1 and y<0.85 and jet_qtnormjetpt<0.3')['n_total'].mean()\n",
    "#print df_jet.query('x>0.1 and x<0.2 and y>0.1 and y<0.85 and jet_qtnormjetpt<0.3')['n_charged'].mean()\n",
    "\n",
    "print 'number'\n",
    "print df_jet.query('jet_pt>10 and jet_pt<12')['n_total'].mean()\n",
    "\n",
    "plt.hist(df_jet.query('x>0.1 and x<0.2 and y>0.1 and y<0.85 and jet_qtnormjetpt<0.3')['jet_pt'])"
   ]
  },
  {
   "cell_type": "code",
   "execution_count": null,
   "metadata": {},
   "outputs": [],
   "source": [
    "jets = df_jet.query('jet_pt>10 and jet_pt<15 and y<0.85 and y>0.1 and jet_qtnormjetpt<0.3').shape[0]\n",
    "jets = jets*to_counts\n",
    "print jets"
   ]
  },
  {
   "cell_type": "markdown",
   "metadata": {},
   "source": [
    "## Sivers asymmetry for lepton-jet correlation!"
   ]
  },
  {
   "cell_type": "code",
   "execution_count": null,
   "metadata": {},
   "outputs": [],
   "source": [
    "dilution_factor =0.7 # proton polarization for single-spin asymmetries ()\n",
    "efficiency = 0.5 #overall-efficiency\n",
    "penalty = 1.0 #sqrt(2) coming from separating Sivers v Collins v something else\n",
    "lumi = 100 # in units of fb-1. 100 is expected in a year? (check)\n",
    "\n",
    "def fake_A(x,slope=0.05):\n",
    "    return slope*np.ones(len(x))"
   ]
  },
  {
   "cell_type": "code",
   "execution_count": null,
   "metadata": {},
   "outputs": [],
   "source": [
    "rc('text', usetex=True)\n",
    "\n",
    "fig = plt.figure(figsize=(8,6))\n",
    "asymmetry = [0.125,0.1,0.075,0.05,0.025]\n",
    "asymmetry = np.divide(asymmetry,2.0)\n",
    "#colores = ['black','blue','red','purple']\n",
    "\n",
    "\n",
    "\n",
    "#for counter,edges in enumerate([(100,200),(200,500), (500,1000),(1000,2000), (2000,10000)]):\n",
    "for counter,edges in enumerate([(25,50),(50,100),(100,200),(200,500), (500,1000)]):\n",
    "\n",
    "    df_cut = df_jet.query('dphi<0.4 and Q2 > %2.2f and Q2<%2.2f'%(edges[0],edges[1]))\n",
    "    print df_cut['e_pt'].mean(), ' mean pt'\n",
    "    print df_cut['jet_pt'].mean(), ' mean pt'\n",
    "\n",
    "    print df_cut['x'].mean(), ' mean x'\n",
    "    print df_cut['Q2'].mean(), ' mean Q2'\n",
    "    \n",
    "    print 'Number of events ', df_cut.shape[0]*to_cross_section*1000*lumi \n",
    "    \n",
    "    print '###########'\n",
    "    y, x  = np.histogram(df_cut['x'],bins=np.logspace(-2,-0.09,12))\n",
    "    x = (x[1:]+x[:-1])/2\n",
    "    x = x + 0.01*counter\n",
    "    #y[y<100] = 0\n",
    "    #print y\n",
    "    y = y*to_cross_section\n",
    "    y = y*1000*lumi\n",
    "    print y \n",
    "    \n",
    "    y = y*efficiency # take efficiency hit\n",
    "    erry = np.divide(1,dilution_factor*np.sqrt(y),out=np.zeros_like(y)) #follow standard formula for asymmetry uncertainty\n",
    "    print 'error', erry\n",
    "    x[erry == inf] = 1000\n",
    "    print x\n",
    "    plt.errorbar(x,y=fake_A(x,asymmetry[counter]) , yerr=erry, fmt='o',ls='none',label='%2.0f$<Q^{2}<$%2.0f $\\mathrm{GeV}^{2}$'%(edges[0],edges[1]))\n",
    "    #print 'error', erry\n",
    "    #print x\n",
    "    \n",
    "    #plt.errorbar(x,y,label='%2.0f$<Q^{2}<$%2.0f'%(edges[0],edges[1]))\n",
    "\n",
    "    #plt.errorbar(x,y,label='%2.2f$<x<$%2.2f'%(edges[0],edges[1]))\n",
    "####\n",
    "plt.ylim([0.0,0.10])\n",
    "plt.xlim([0.01,1.0])\n",
    "plt.yticks(fontsize=16)\n",
    "plt.xticks(fontsize=16)\n",
    "#plt.yscale('log')\n",
    "\n",
    "plt.xscale('log')\n",
    "plt.title('$e+p$ NC DIS, 10+100 GeV, 100 fb$^{-1}$, $0.01<y<0.95$', fontsize=18)\n",
    "plt.legend(loc='best', fontsize=16,frameon=False,ncol=2)\n",
    "plt.ylabel('$A_{UT}$',fontsize=18)\n",
    "plt.xlabel('$x$',fontsize=20)\n",
    "plt.savefig('AUT_NC_Sivers_xdependence.png', bbox_inches='tight')\n",
    "plt.savefig('AUT_NC_Sivers_xdependence.pdf', bbox_inches='tight')"
   ]
  },
  {
   "cell_type": "code",
   "execution_count": null,
   "metadata": {},
   "outputs": [],
   "source": [
    "fig = plt.figure(figsize=(8,6))\n",
    "asymmetry = [0.01,0.02,0.04,0.07]\n",
    "colores = ['black','blue','red','purple']\n",
    "for counter,edges in enumerate([(0.05,0.1), (0.15,0.2),(0.2,0.3),(0.3,0.8)]):\n",
    "    maxdphi = 0.15\n",
    "    df_cut = df_jet.query('x > %2.2f and x<%2.2f'%(edges[0],edges[1]))\n",
    "    print df_cut['e_pt'].mean(), ' mean pt'\n",
    "    print df_cut['x'].mean(), ' mean x'\n",
    "    print df_cut['Q2'].mean(), ' mean Q2'\n",
    "\n",
    "    y, x  = np.histogram(df_cut['dphi'],bins=5,range=(0.0,maxdphi))\n",
    "    x = (x[1:]+x[:-1])/2\n",
    "    y = y*to_cross_section\n",
    "    y = y*1000*lumi\n",
    "    erry = 1/(dilution_factor*np.sqrt(y)) #follow standard formula for asymmetry uncertainty\n",
    "    erry= penalty*erry #take sqrt(2) because of interference with other modulations\n",
    "    plt.errorbar(x,y=fake_A(x,asymmetry[counter]) , yerr=erry, fmt='o',ls='none',color=colores[counter],label='%2.2f$<x<$%2.2f'%(edges[0],edges[1]))\n",
    "    print ' '\n",
    "####\n",
    "plt.ylim([0.0,0.12])\n",
    "plt.xlim([0.0,0.15])\n",
    "\n",
    "plt.text(0.01, 0.1, '$e+p^{\\uparrow}$, 10+100 GeV, 100 fb$^{-1}$ \\n $0.1<y<0.85$, $Q^{2}>$25 GeV$^{2}$', fontsize=18)\n",
    "plt.legend(loc='best', fontsize=16,frameon=False,ncol=1)\n",
    "plt.ylabel('$A_{UT}$',fontsize=18)\n",
    "plt.xlabel('$\\Delta\\phi = \\pi-|\\phi_{e}-\\phi_{jet}|$',fontsize=20)\n",
    "plt.savefig('AUT_Sivers_xbins.png', bbox_inches='tight')\n",
    "plt.savefig('AUT_Sivers_xbins.pdf', bbox_inches='tight')"
   ]
  },
  {
   "cell_type": "code",
   "execution_count": null,
   "metadata": {},
   "outputs": [],
   "source": [
    "fig = plt.figure(figsize=(8,6))\n",
    "asymmetry = [0.01,0.02,0.04]\n",
    "colores = ['black','blue','red']\n",
    "for counter,edges in enumerate([(6.0,8.0), (9,11),(13.0,17.0)]):\n",
    "    maxdphi = np.pi\n",
    "    df_cut = df_jet.query('e_pt > %2.2f and e_pt<%2.2f'%(edges[0],edges[1]))\n",
    "    print df_cut['e_pt'].mean(), ' mean pt'\n",
    "    y, x  = np.histogram(df_cut['dphi'],bins=7,range=(0.0,0.4))\n",
    "    x = (x[1:]+x[:-1])/2\n",
    "    y = y*to_cross_section\n",
    "    y = y*1000*lumi\n",
    "    erry = np.sqrt(y)\n",
    "    plt.errorbar(x,y ,fmt='o',ls='none',color=colores[counter],label='%2.0f$<p_{T}^{e}<$%2.0f'%(edges[0],edges[1]))\n",
    "\n",
    "####\n",
    "plt.legend(frameon=False,loc='best')\n",
    "#plt.ylim([0.0,0.07])\n",
    "\n",
    "#plt.text(0.01, 0.05, '$e+p^{\\uparrow}$, 18+100 GeV \\n $0.1<y<0.85$, $Q^{2}>$25 GeV$^{2}$\\n 100 fb$^{-1}$', fontsize=18)\n",
    "plt.legend(loc='best', fontsize=20,frameon=False)\n",
    "plt.ylabel('$d\\sigma $x 100 fb$^{-1}$',fontsize=18)\n",
    "plt.xlabel('$\\Delta\\phi = \\pi-|\\phi_{e}-\\phi_{jet}|$',fontsize=20)\n",
    "plt.savefig('AUT_Sivers_distributions.png', bbox_inches='tight')\n",
    "plt.savefig('AUT_Sivers_distributions.pdf', bbox_inches='tight')"
   ]
  },
  {
   "cell_type": "code",
   "execution_count": null,
   "metadata": {},
   "outputs": [],
   "source": [
    "fig = plt.figure(figsize=(8,6))\n",
    "asymmetry = [0.01,0.02,0.04,0.06]\n",
    "colores = ['black','blue','red','purple']\n",
    "for counter,edges in enumerate([(6.0,8.0), (9,11),(13.0,17.0)]):\n",
    "    maxdphi = 0.15\n",
    "    df_cut = df_jet.query('e_pt > %2.2f and e_pt<%2.2f'%(edges[0],edges[1]))\n",
    "    print df_cut['e_pt'].mean(), ' mean pt'\n",
    "    mean_x = df_cut['x'].mean()\n",
    "    print mean_x\n",
    "    \n",
    "    print df_cut['Q2'].mean(), ' mean Q2'\n",
    "\n",
    "    y, x  = np.histogram(df_cut['dphi'],bins=7,range=(0.0,maxdphi))\n",
    "    x = (x[1:]+x[:-1])/2\n",
    "    y = y*to_cross_section\n",
    "    y = y*1000*lumi\n",
    "    y = y*efficiency # take efficiency hit\n",
    "    erry = 1/(dilution_factor*np.sqrt(y)) #follow standard formula for asymmetry uncertainty\n",
    "    erry= penalty*erry #take sqrt(2) because of interference with other modulations\n",
    "    plt.errorbar(x,y=fake_A(x,asymmetry[counter]) , yerr=erry, fmt='o',ls='none', color=colores[counter],label='%2.0f$<p_{T}^{e}<$%2.0f GeV, $<x>$ = %2.2f'%(edges[0],edges[1],mean_x))\n",
    "    print ' '\n",
    "####\n",
    "plt.legend(frameon=False,loc='best',ncol=2,fontsize=16)\n",
    "plt.ylim([0.0,0.09])\n",
    "#plt.ylim([-0.15,0.15])\n",
    "\n",
    "plt.xlim([0.0,0.15])\n",
    "\n",
    "plt.text(0.005, 0.065, 'asdasd', fontsize=18)\n",
    "plt.legend(loc='best', fontsize=16,frameon=False)\n",
    "plt.ylabel('$A_{UT}$',fontsize=18)\n",
    "plt.xlabel('$\\Delta\\phi = \\pi-|\\phi_{e}-\\phi_{jet}|$',fontsize=20)\n",
    "plt.savefig('AUT_Sivers.png', bbox_inches='tight')\n",
    "plt.savefig('AUT_Sivers.pdf', bbox_inches='tight')"
   ]
  },
  {
   "cell_type": "code",
   "execution_count": null,
   "metadata": {},
   "outputs": [],
   "source": [
    "from matplotlib import rc\n",
    "rc('text', usetex=True)\n",
    "\n",
    "\n",
    "fig, axs = plt.subplots(1, 3,sharey=True, figsize=(20,6), gridspec_kw={'wspace':0, 'hspace':0})\n",
    "\n",
    "\n",
    "for counter,edges in enumerate([(10,15), (15,20),(20,30)]):\n",
    "\n",
    "    df_cut = df_jet.query('e_pt > %2.2f and e_pt<%2.2f'%(edges[0],edges[1]))\n",
    "    #printSummary(df_cut)\n",
    "    print '###########'\n",
    "    \n",
    "    axs[counter].hist(df_cut['dphi'],bins=25,range=(0,0.4),normed=True)\n",
    "    \n",
    "    axs[counter].xaxis.set_label_text(r'$|\\phi^{jet}-\\phi^\\nu-\\pi|$', fontsize=25)\n",
    "    axs[0].yaxis.set_label_text(r'$\\mathrm{Normalized\\ counts}$', fontsize=25)\n",
    "    axs[counter].tick_params('both',labelsize=20)\n",
    "    plt.yticks(fontsize=20)\n",
    "    #axs[counter].text(0.1,6, , fontsize=20)\n",
    "    #axs[counter].text(0.1,8, '$\\sqrt{s} = 89 \\, \\mathrm{GeV}$ \\n $0.1 < y < 0.85$ \\n $p_T^{jet} > 4 \\, \\mathrm{GeV/c}$', fontsize=20)\n",
    "    #plt.legend(prop={'size': 20}, frameon=False, loc='best')\n",
    "    axs[counter].text(0.07,11, r' $ %2.0f< p_{\\mathrm{T}}^{e} < %2.0f$'%(edges[0],edges[1]) + '$\\ \\mathrm{ GeV}$ \\n' +\n",
    "                      r'$\\langle x \\rangle = %2.2f, \\langle Q^{2} \\rangle = %2.0f \\ \\mathrm{GeV}^{2}$'%(df_cut['x'].mean(), df_cut['Q2'].mean()), fontsize=25)\n",
    "\n",
    "axs[1].set_title(r'NC\\ DIS \\ $10+275$ \\ $\\mathrm{GeV}$, 100 $\\mathrm{fb}^{-1}$ , $0.1<y<0.85$, $Q^{2}>25$ $\\mathrm{GeV}^{2}$',fontsize=25)  \n",
    "\n",
    "plt.savefig('NC_LeptonJetAzimuthal.png', bbox_inches='tight')\n",
    "plt.savefig('NC_LeptonJetAzimuthal.pdf', bbox_inches='tight')\n"
   ]
  },
  {
   "cell_type": "markdown",
   "metadata": {},
   "source": [
    "## qT distributions without normalization"
   ]
  },
  {
   "cell_type": "code",
   "execution_count": null,
   "metadata": {},
   "outputs": [],
   "source": [
    "from matplotlib import rc\n",
    "rc('text', usetex=True)\n",
    "\n",
    "\n",
    "fig, axs = plt.subplots(1, 3,sharey=True, figsize=(20,6), gridspec_kw={'wspace':0, 'hspace':0})\n",
    "\n",
    "\n",
    "for counter,edges in enumerate([(10,15), (15,20),(20,30)]):\n",
    "\n",
    "    df_cut = df_jet.query('e_pt > %2.2f and e_pt<%2.2f'%(edges[0],edges[1]))\n",
    "    #printSummary(df_cut)\n",
    "    print '###########'\n",
    "    \n",
    "    axs[counter].hist(df_cut['jet_qt'],bins=25,range=(0,4.0),normed=True)\n",
    "    \n",
    "    axs[counter].xaxis.set_label_text(r'$q_{T} [GeV]$', fontsize=25)\n",
    "    axs[0].yaxis.set_label_text(r'$\\mathrm{Normalized\\ counts}$', fontsize=25)\n",
    "    axs[counter].tick_params('both',labelsize=20)\n",
    "    plt.yticks(fontsize=20)\n",
    "    #axs[counter].text(0.1,6, , fontsize=20)\n",
    "    #axs[counter].text(0.1,8, '$\\sqrt{s} = 89 \\, \\mathrm{GeV}$ \\n $0.1 < y < 0.85$ \\n $p_T^{jet} > 4 \\, \\mathrm{GeV/c}$', fontsize=20)\n",
    "    #plt.legend(prop={'size': 20}, frameon=False, loc='best')\n",
    "    #axs[counter].text(0.07,10, r' $ %2.0f< p_{\\mathrm{T}}^{e} < %2.0f$'%(edges[0],edges[1]) + '$\\ \\mathrm{ GeV}$ \\n' +\n",
    "    #                  r'$\\langle x \\rangle = %2.2f, \\langle Q^{2} \\rangle = %2.0f \\ \\mathrm{GeV}^{2}$'%(df_cut['x'].mean(), df_cut['Q2'].mean()), fontsize=25)\n",
    "\n",
    "axs[1].set_title(r'NC\\ DIS \\ $10+275$ \\ $\\mathrm{GeV}$, 100 $\\mathrm{fb}^{-1}$ , $0.1<y<0.85$, $Q^{2}>25$ $\\mathrm{GeV}^{2}$',fontsize=25)  \n",
    "\n",
    "plt.savefig('NC_LeptonJetqt.png', bbox_inches='tight')\n",
    "plt.savefig('NC_LeptonJetqt.pdf', bbox_inches='tight')"
   ]
  },
  {
   "cell_type": "markdown",
   "metadata": {},
   "source": [
    "## qT distirbutions"
   ]
  },
  {
   "cell_type": "code",
   "execution_count": null,
   "metadata": {},
   "outputs": [],
   "source": [
    "from matplotlib import rc\n",
    "rc('text', usetex=True)\n",
    "\n",
    "\n",
    "fig, axs = plt.subplots(1, 3,sharey=True, figsize=(20,6), gridspec_kw={'wspace':0, 'hspace':0})\n",
    "\n",
    "\n",
    "for counter,edges in enumerate([(10,15), (15,20),(20,30)]):\n",
    "\n",
    "    df_cut = df_jet.query('e_pt > %2.2f and e_pt<%2.2f'%(edges[0],edges[1]))\n",
    "    #printSummary(df_cut)\n",
    "    print '###########'\n",
    "    \n",
    "    axs[counter].hist(df_cut['jet_qtnorm'],bins=25,range=(0,0.5),normed=True)\n",
    "    \n",
    "    axs[counter].xaxis.set_label_text(r'$q_{T}/Q$', fontsize=25)\n",
    "    axs[0].yaxis.set_label_text(r'$\\mathrm{Normalized\\ counts}$', fontsize=25)\n",
    "    axs[counter].tick_params('both',labelsize=20)\n",
    "    plt.yticks(fontsize=20)\n",
    "    #axs[counter].text(0.1,6, , fontsize=20)\n",
    "    #axs[counter].text(0.1,8, '$\\sqrt{s} = 89 \\, \\mathrm{GeV}$ \\n $0.1 < y < 0.85$ \\n $p_T^{jet} > 4 \\, \\mathrm{GeV/c}$', fontsize=20)\n",
    "    #plt.legend(prop={'size': 20}, frameon=False, loc='best')\n",
    "    axs[counter].text(0.07,10, r' $ %2.0f< p_{\\mathrm{T}}^{e} < %2.0f$'%(edges[0],edges[1]) + '$\\ \\mathrm{ GeV}$ \\n' +\n",
    "                      r'$\\langle x \\rangle = %2.2f, \\langle Q^{2} \\rangle = %2.0f \\ \\mathrm{GeV}^{2}$'%(df_cut['x'].mean(), df_cut['Q2'].mean()), fontsize=25)\n",
    "\n",
    "axs[1].set_title(r'NC\\ DIS \\ $10+275$ \\ $\\mathrm{GeV}$, 100 $\\mathrm{fb}^{-1}$ , $0.1<y<0.85$, $Q^{2}>25$ $\\mathrm{GeV}^{2}$',fontsize=25)  \n",
    "\n",
    "plt.savefig('NC_LeptonJetqt.png', bbox_inches='tight')\n",
    "plt.savefig('NC_LeptonJetqt.pdf', bbox_inches='tight')\n"
   ]
  },
  {
   "cell_type": "code",
   "execution_count": null,
   "metadata": {},
   "outputs": [],
   "source": [
    "from matplotlib import rc\n",
    "rc('text', usetex=True)\n",
    "\n",
    "\n",
    "fig, axs = plt.subplots(1, 3,sharey=True, figsize=(20,6), gridspec_kw={'wspace':0, 'hspace':0})\n",
    "\n",
    "\n",
    "for counter,edges in enumerate([(10,15), (15,20),(20,30)]):\n",
    "\n",
    "    df_cut = df_jet.query('e_pt > %2.2f and e_pt<%2.2f'%(edges[0],edges[1]))\n",
    "    #printSummary(df_cut)\n",
    "    print '###########'\n",
    "    \n",
    "    axs[counter].hist(df_cut['jet_qtnormept'],bins=15,range=(0,1.0),normed=True)\n",
    "    \n",
    "    axs[counter].xaxis.set_label_text(r'$q_{T}/p_{\\mathrm{T}}^{e}$', fontsize=25)\n",
    "    axs[0].yaxis.set_label_text(r'$\\mathrm{Normalized\\ counts}$', fontsize=25)\n",
    "    axs[counter].tick_params('both',labelsize=20)\n",
    "    plt.yticks(fontsize=20)\n",
    "    #axs[counter].text(0.1,6, , fontsize=20)\n",
    "    #axs[counter].text(0.1,8, '$\\sqrt{s} = 89 \\, \\mathrm{GeV}$ \\n $0.1 < y < 0.85$ \\n $p_T^{jet} > 4 \\, \\mathrm{GeV/c}$', fontsize=20)\n",
    "    #plt.legend(prop={'size': 20}, frameon=False, loc='best')\n",
    "    #axs[counter].text(0.07,10, r' $ %2.0f< p_{\\mathrm{T}}^{e} < %2.0f$'%(edges[0],edges[1]) + '$\\ \\mathrm{ GeV}$ \\n' +\n",
    "    #                  r'$\\langle x \\rangle = %2.2f, \\langle Q^{2} \\rangle = %2.0f \\ \\mathrm{GeV}^{2}$'%(df_cut['x'].mean(), df_cut['Q2'].mean()), fontsize=25)\n",
    "\n",
    "axs[1].set_title(r'NC\\ DIS \\ $10+275$ \\ $\\mathrm{GeV}$, 100 $\\mathrm{fb}^{-1}$ , $0.1<y<0.85$, $Q^{2}>25$ $\\mathrm{GeV}^{2}$',fontsize=25)  \n",
    "\n",
    "plt.savefig('NC_LeptonJetqtoverept.png', bbox_inches='tight')\n",
    "plt.savefig('NC_LeptonJetqtoverept.pdf', bbox_inches='tight')"
   ]
  },
  {
   "cell_type": "code",
   "execution_count": null,
   "metadata": {},
   "outputs": [],
   "source": [
    "from matplotlib import rc\n",
    "rc('text', usetex=True)\n",
    "\n",
    "\n",
    "fig, axs = plt.subplots(1, 3,sharey=True, figsize=(20,6), gridspec_kw={'wspace':0, 'hspace':0})\n",
    "\n",
    "\n",
    "for counter,edges in enumerate([(100,150), (150,200),(200,250)]):\n",
    "\n",
    "    df_cut = df_jet.query('jet_p > %2.2f and jet_p<%2.2f'%(edges[0],edges[1]))\n",
    "    printSummary(df_cut)\n",
    "    print '###########'\n",
    "    \n",
    "    axs[counter].hist(df_cut['jet_qtnormjetpt'],bins=7,range=(0,1.0),normed=True)\n",
    "    \n",
    "    axs[counter].xaxis.set_label_text(r'$q_{T}/p_{\\mathrm{T}}^{jet}$', fontsize=25)\n",
    "    axs[0].yaxis.set_label_text(r'$\\mathrm{Normalized\\ counts}$', fontsize=25)\n",
    "    axs[counter].tick_params('both',labelsize=20)\n",
    "    plt.yticks(fontsize=20)\n",
    "    #axs[counter].text(0.1,6, , fontsize=20)\n",
    "    #axs[counter].text(0.1,8, '$\\sqrt{s} = 89 \\, \\mathrm{GeV}$ \\n $0.1 < y < 0.85$ \\n $p_T^{jet} > 4 \\, \\mathrm{GeV/c}$', fontsize=20)\n",
    "    #plt.legend(prop={'size': 20}, frameon=False, loc='best')\n",
    "    #axs[counter].text(0.07,10, r' $ %2.0f< p_{\\mathrm{T}}^{e} < %2.0f$'%(edges[0],edges[1]) + '$\\ \\mathrm{ GeV}$ \\n' +\n",
    "    #                  r'$\\langle x \\rangle = %2.2f, \\langle Q^{2} \\rangle = %2.0f \\ \\mathrm{GeV}^{2}$'%(df_cut['x'].mean(), df_cut['Q2'].mean()), fontsize=25)\n",
    "\n",
    "axs[1].set_title(r'NC\\ DIS \\ $10+275$ \\ $\\mathrm{GeV}$, 100 $\\mathrm{fb}^{-1}$ , $0.1<y<0.85$, $Q^{2}>25$ $\\mathrm{GeV}^{2}$',fontsize=25)  \n",
    "\n",
    "plt.savefig('NC_LeptonJetqtoverept.png', bbox_inches='tight')\n",
    "plt.savefig('NC_LeptonJetqtoverept.pdf', bbox_inches='tight')"
   ]
  },
  {
   "cell_type": "code",
   "execution_count": null,
   "metadata": {},
   "outputs": [],
   "source": [
    "## Single unpolarized plot"
   ]
  },
  {
   "cell_type": "code",
   "execution_count": null,
   "metadata": {},
   "outputs": [],
   "source": [
    "rc('text', usetex=True)\n",
    "\n",
    "\n",
    "fig = plt.figure(figsize=(8,6))\n",
    "\n",
    "\n",
    "df_cut = df_jet.query('e_pt > %2.2f and e_pt<%2.2f'%(15,20))\n",
    "printSummary(df_cut)\n",
    "print '###########'\n",
    "    \n",
    "plt.hist(df_cut['jet_qtnormjetpt'],bins=10,range=(0,1.05),normed=True,histtype='step')    \n",
    "plt.xlabel(r'$q_{T}/p_{\\mathrm{T}}^{jet}$', fontsize=25)\n",
    "plt.ylabel(r'$1/\\sigma_{\\mathrm{DIS}} \\times d\\sigma/dq_{T}$ $\\ \\mathrm{ GeV}^{-1}$ ', fontsize=25)\n",
    "#plt.tick_params('both',labelsize=20)\n",
    "\n",
    "plt.text(0.45,1.5, r' $ %2.0f< p_{\\mathrm{T}}^{e} < %2.0f$'%(15,20) + '$\\ \\mathrm{ GeV}$ \\n' +\n",
    "                      r'$\\langle x \\rangle = %2.2f, \\langle Q^{2} \\rangle = %2.0f \\ \\mathrm{GeV}^{2}$'%(df_cut['x'].mean(), df_cut['Q2'].mean()), fontsize=21)\n",
    "\n",
    "plt.legend(loc='best',frameon=False)\n",
    "plt.yticks(fontsize=20)\n",
    "plt.xticks(fontsize=20)\n",
    "plt.savefig('qtplot.png', bbox_inches='tight')\n",
    "plt.savefig('qtplot.pdf', bbox_inches='tight')"
   ]
  },
  {
   "cell_type": "markdown",
   "metadata": {},
   "source": [
    "## qT "
   ]
  },
  {
   "cell_type": "code",
   "execution_count": null,
   "metadata": {},
   "outputs": [],
   "source": [
    "rc('text', usetex=True)\n",
    "\n",
    "\n",
    "fig = plt.figure(figsize=(8,6))\n",
    "\n",
    "\n",
    "df_cut = df_jet.query('e_pt > %2.2f and e_pt<%2.2f'%(15,20))\n",
    "printSummary(df_cut)\n",
    "print '###########'\n",
    "    \n",
    "#plt.hist(df_cut['jet_qt'],bins=10,range=(0,4.0),normed=True,histtype='step')    \n",
    "\n",
    "y, x  = np.histogram(df_cut['jet_qt'],bins=10,range=(0,4.0))\n",
    "width = (x[1:]-x[:-1])\n",
    "x = (x[1:]+x[:-1])/2.0\n",
    "y = y*to_cross_section\n",
    "y = y/width\n",
    "plt.errorbar(x,y , xerr=width/2.0, fmt='o',ls='none')\n",
    "\n",
    "\n",
    "plt.xlabel(r'$q_{T}$ (GeV)', fontsize=25)\n",
    "plt.ylabel(r'$d\\sigma/dq_{T}$ [pb/GeV] ', fontsize=25)\n",
    "#plt.tick_params('both',labelsize=20)\n",
    "\n",
    "plt.title(r' $ %2.0f< p_{\\mathrm{T}}^{e} < %2.0f$'%(15,20) + '$\\ \\mathrm{ GeV}$ \\n' +\n",
    "                      r'$\\langle x \\rangle = %2.2f, \\langle Q^{2} \\rangle = %2.0f \\ \\mathrm{GeV}^{2}$'%(df_cut['x'].mean(), df_cut['Q2'].mean()), fontsize=21)\n",
    "\n",
    "plt.legend(loc='best',frameon=False)\n",
    "plt.yticks(fontsize=20)\n",
    "plt.xticks(fontsize=20)\n",
    "plt.savefig('qtplot.png', bbox_inches='tight')\n",
    "plt.savefig('qtplot.pdf', bbox_inches='tight')"
   ]
  },
  {
   "cell_type": "code",
   "execution_count": null,
   "metadata": {},
   "outputs": [],
   "source": [
    "nbins  = 4\n",
    "df_cut = df_jet.query('e_pt > %2.2f and e_pt <%2.2f'%(15,20))\n",
    "printSummary(df_cut)\n",
    "\n",
    "x_Sivers = np.array([1.00E-01,3.00E-01 ,5.00E-01, 7.00E-01  , 9.00E-01,1.10E+00 ,1.30E+00 ,1.50E+00,2.00E+00 ,3.00E+00, 5.00E+00])\n",
    "x_Sivers = np.divide(x_Sivers,16.0)\n",
    "ySivers  = np.array([1.15E-01, 9.64E-01, 2.32E+00 , 3.68E+00, 4.60E+00, 4.88E+00, 4.59E+00,  3.94E+00,  2.23E+00,  1.04E+00, 1.53E-01])\n",
    "yunpol = np.array([2.47E+01,  7.04E+01,  1.06E+02,  1.29E+02,  1.37E+02,  1.35E+02,  1.25E+02, 1.11E+02, 7.71E+01, 3.83E+01, 1.15E+01])\n",
    "\n",
    "\n",
    "ySivers = np.divide(ySivers,yunpol)\n",
    "print ySivers\n",
    "\n",
    "from matplotlib import rc\n",
    "rc('text', usetex=True)\n",
    "maxz = 0.8\n",
    "#fig = plt.figure(figsize=(9,4.5))\n",
    "fig = plt.figure(figsize=(8,6))\n",
    "plt.plot(x_Sivers, ySivers,label='$15 < p_{\\mathrm{T}}^{\\mathrm{jet}}<20 \\mathrm{~GeV}$',color='red')\n",
    "\n",
    "\n",
    "y, x  = np.histogram(df_cut['jet_qtnormjetpt'],bins=nbins,range=(0.0,0.4))\n",
    "x = (x[1:]+x[:-1])/2\n",
    "y = y*to_counts\n",
    "y = y*efficiency # take efficiency hit\n",
    "y[y<100] = 0\n",
    "\n",
    "erry = np.divide(1,dilution_factor*np.sqrt(y),out=np.zeros_like(y)) #follow standard formula for asymmetry uncertainty\n",
    "erry= penalty*erry #take sqrt(2) because of interference with other modulations\n",
    "x[erry == inf] = 1000\n",
    "\n",
    "plt.errorbar(x,y=np.zeros(len(x)) , yerr=erry, fmt='o',ls='none',color='black')\n",
    "print ' '\n",
    "\n",
    "plt.title('$e+p^{\\uparrow}$, $10+275 \\mathrm{ ~GeV}$, $100$ $\\mathrm{fb}$^{-1}$', fontsize=20)\n",
    "#plt.text(0.07, 0.040, '$0.1<x<0.2$, $0.1<y<0.85$ ',fontsize=17)\n",
    "plt.yticks(fontsize=16)\n",
    "plt.xticks(fontsize=16)\n",
    "#plt.axhline(y=0.0,color='black',linestyle='--',alpha=0.5)\n",
    "\n",
    "plt.ylim([-0.01,0.05])\n",
    "\n",
    "\n",
    "lg= plt.legend(loc='best', fontsize=18,frameon=False,ncol=2,title='Arratia, Kang, Prokudin, Ringer (prelim)')\n",
    "title = lg.get_title()\n",
    "title.set_fontsize(19)\n",
    "plt.ylabel('$A_{\\mathrm{UT}}^{\\sin(\\phi_S-\\phi_\\mathrm{jet})}$',fontsize=25)\n",
    "#plt.xlabel('$\\Delta\\phi = \\pi-|\\phi_{e}-\\phi_{jet}|$',fontsize=20)\n",
    "plt.xlabel(r'$q_{T}/p_{\\mathrm{T}}^{jet}$', fontsize=25)\n",
    "\n",
    "plt.savefig('AUT_Sivers_qtbins.png', bbox_inches='tight')\n",
    "plt.savefig('AUT_Sivers_qtbins.pdf', bbox_inches='tight')"
   ]
  },
  {
   "cell_type": "code",
   "execution_count": null,
   "metadata": {},
   "outputs": [],
   "source": [
    "rc('text', usetex=True)\n",
    "\n",
    "fig = plt.figure(figsize=(8,6))\n",
    "x_theory= [0.10E-01 ,0.20E-01 ,0.40E-01,0.60E-01,0.80E-01,0.10E+00,0.15E+00,0.20E+00,0.25E+00,0.30E+00,0.35E+00]\n",
    "y_theory = [0.797E-02, 0.156E-01,  0.286E-01,0.343E-01 , 0.353E-01 , 0.341E-01, 0.286E-01,  0.236E-01 ,0.199E-01 ,0.174E-01, 0.156E-01    ]\n",
    "\n",
    "ymin_theory = [0.111E-01,0.217E-01,0.384E-01 ,0.459E-01,0.478E-01,0.471E-01,0.419E-01,0.366E-01,0.326E-01 ,0.297E-01, 0.276E-01 ]\n",
    "\n",
    "ymax_theory = [0.458E-02,0.855E-02,  0.169E-01, 0.207E-01, 0.209E-01,0.194E-01,0.139E-01,0.959E-02,0.674E-02,0.489E-02,0.366E-02]\n",
    "\n",
    "\n",
    "plt.fill_between(x_theory, ymin_theory , ymax_theory,alpha=0.7,color='orange',label='theory uncertainty')     \n",
    "plt.plot(x_theory,y_theory,linewidth=3,color='red')\n",
    "plt.ylabel('$A_{\\mathrm{UT}}^{\\sin(\\phi_S-\\phi_\\mathrm{q})}$',fontsize=25)\n",
    "#plt.xlabel('$\\Delta\\phi = \\pi-|\\phi_{e}-\\phi_{jet}|$',fontsize=20)\n",
    "plt.xlabel(r'$q_{T}/p_{\\mathrm{T}}^{e}$', fontsize=25)\n",
    "\n",
    "plt.errorbar(x,y=np.zeros(len(x)) , yerr=erry, fmt='o',ls='none',color='black',label='projected precision')\n",
    "\n",
    "y_theory_subset = [0.0286,0.0341,0.0236,0.0199,0.0174]\n",
    "#plt.errorbar(x, y_theory_subset , yerr=erry, fmt='o',ls='none',color='black')\n",
    "\n",
    "print x\n",
    "print x_theory\n",
    "print y_theory\n",
    "plt.title('$e+p^{\\uparrow}$, $10+275 \\mathrm{ ~GeV}$, $100$ $\\mathrm{fb}$^{-1}$, $0.1<y<0.85$', fontsize=20)\n",
    "#plt.text(0.07, 0.040, '$0.1<x<0.2$, $0.1<y<0.85$ ',fontsize=17)\n",
    "plt.yticks(fontsize=19)\n",
    "plt.xticks(fontsize=19)\n",
    "plt.legend(fontsize=18,frameon=False,ncol=2)\n",
    "plt.text(0.18,0.042, r' $ %2.0f< p_{\\mathrm{T}}^{e} < %2.0f$'%(15,20) + '$\\ \\mathrm{ GeV}$ \\n' +\n",
    "                      r'$\\langle x \\rangle=%2.2f, \\langle Q^{2} \\rangle=%2.0f \\ \\mathrm{GeV}^{2}$'%(df_cut['x'].mean(), df_cut['Q2'].mean()), fontsize=19)\n",
    "\n",
    "plt.ylim([-0.005,0.06])\n",
    "plt.savefig('AUT_Sivers_qtbins_theoryerror.png', bbox_inches='tight')\n",
    "plt.savefig('AUT_Sivers_qtbins_theoryerror.pdf', bbox_inches='tight')\n",
    "plt.show()"
   ]
  },
  {
   "cell_type": "code",
   "execution_count": null,
   "metadata": {},
   "outputs": [],
   "source": [
    "xtheory = np.array([1.00E-01,   3.00E-01, 5.00E-01, 7.00E-01,  9.00E-01, 1.10E+00,  1.30E+00, 1.50E+00,   2.00E+00,  3.00E+00,    5.00E+00])\n",
    "ytheory = np.array([2.47E+01,  7.04E+01, 1.06E+02, 1.29E+02, 1.37E+02, 1.35E+02, 1.25E+02, 1.11E+02, 7.71E+01, 3.83E+01,   1.15E+01])\n",
    "\n",
    "ytheory = ytheory/302.0\n",
    "plt.plot(xtheory,ytheory)\n",
    "\n"
   ]
  },
  {
   "cell_type": "code",
   "execution_count": null,
   "metadata": {},
   "outputs": [],
   "source": [
    "fig = plt.figure(figsize=(8,6))\n",
    "\n",
    "xpythia =  np.linspace(0.0,5.0,26)\n",
    "binwidth = (xpythia[1:]-xpythia[:-1])/2\n",
    "print binwidth\n",
    "\n",
    "xpythia = (xpythia[1:]+xpythia[:-1])/2\n",
    "ypythia_qt = np.array([0.0729561, 0.210884, 0.334565, 0.405329,\n",
    "      0.451357,  0.478129,  0.4476, 0.406112,  0.357736,\n",
    "     0.310455, 0.259417, 0.219808, 0.187557,0.152331, 0.117419,\n",
    "     0.102233,  0.0781226,  0.079375, 0.0599618, 0.0583962, 0.0483765,\n",
    "    0.0474371, 0.0378871, 0.0405486,  0.0360084])\n",
    "\n",
    "plt.errorbar(x, ypythia_qt, xerr=binwidth,label='Pythia')\n",
    "plt.plot(xtheory,ytheory, label='theory')\n",
    "plt.legend()\n",
    "\n",
    "#plt.title('$e+p^{\\uparrow}$, $10+275 \\mathrm{ ~GeV}$, $100$ $\\mathrm{fb}$^{-1}$', fontsize=20)\n",
    "#plt.text(0.07, 0.040, '$0.1<x<0.2$, $0.1<y<0.85$ ',fontsize=17)\n",
    "plt.yticks(fontsize=16)\n",
    "plt.xticks(fontsize=16)\n",
    "plt.legend(fontsize=20,frameon=False)\n",
    "plt.xlabel(r'$q_{T}$ [GeV]', fontsize=25)\n",
    "plt.text(2.1,0.33, r' $ %2.0f< p_{\\mathrm{T}}^{e} < %2.0f$'%(15,20) + '$\\ \\mathrm{ GeV}$ \\n' +\n",
    "                      r'$\\langle x \\rangle = %2.2f, \\langle Q^{2} \\rangle = %2.0f \\ \\mathrm{GeV}^{2}$'%(df_cut['x'].mean(), df_cut['Q2'].mean()), fontsize=21)\n",
    "\n",
    "plt.ylabel(r'$1/\\sigma_{\\mathrm{DIS}} \\times d\\sigma/dq_{T}$ $\\ \\mathrm{ GeV}^{-1}$ ', fontsize=25)\n"
   ]
  },
  {
   "cell_type": "code",
   "execution_count": null,
   "metadata": {},
   "outputs": [],
   "source": [
    "rc('text', usetex=True)\n",
    "fig = plt.figure(figsize=(8,6))\n",
    "df_cut = df_jet.query('e_pt > %2.2f and e_pt<%2.2f'%(15,20))\n",
    "printSummary(df_cut)\n",
    "print '###########'\n",
    "    \n",
    "#plt.hist(df_cut['jet_qt'],bins=10,range=(0,4.0),normed=True,histtype='step')    \n",
    "\n",
    "y, x  = np.histogram(df_cut['jet_qt'],bins=20,range=(0,5.0))\n",
    "width = (x[1:]-x[:-1])\n",
    "x = (x[1:]+x[:-1])/2.0\n",
    "y = y*to_cross_section\n",
    "y = y/sum(y)\n",
    "y = y/width\n",
    "\n",
    "#plt.errorbar(x,y , xerr=width/2.0, fmt='o',ls='none',label='Pythia')\n",
    "\n",
    "plt.step(x,y , where='mid',label='Pythia')\n",
    "\n",
    "\n",
    "plt.xlabel(r'$q_{T}$ $\\mathrm{[GeV]}$', fontsize=25)\n",
    "plt.ylabel(r'$d\\sigma/dq_{T}$ [pb/GeV] ', fontsize=25)\n",
    "plt.yticks(fontsize=20)\n",
    "plt.xticks(fontsize=20)\n",
    "\n",
    "plt.text(2.3,0.30, r' $ %2.0f< p_{\\mathrm{T}}^{e} < %2.0f$'%(15,20) + '$\\ \\mathrm{ GeV}$ \\n' +\n",
    "                      r'$\\langle x \\rangle = %2.2f, \\langle Q^{2} \\rangle = %2.0f \\ \\mathrm{GeV}^{2}$'%(df_cut['x'].mean(), df_cut['Q2'].mean()), fontsize=20)\n",
    "\n",
    "plt.ylabel(r'$1/\\sigma \\times d\\sigma/dq_{T}$ ', fontsize=25)\n",
    "plt.plot(xtheory,ytheory, label='theory',linewidth=3,alpha=0.7)\n",
    "plt.legend(fontsize=20,frameon=False)\n",
    "\n",
    "\n",
    "plt.savefig('Unpolarized_qt.png', bbox_inches='tight')\n",
    "plt.savefig('Unpolarized_qt.pdf', bbox_inches='tight')\n"
   ]
  },
  {
   "cell_type": "code",
   "execution_count": null,
   "metadata": {},
   "outputs": [],
   "source": [
    "rc('text', usetex=True)\n",
    "fig = plt.figure(figsize=(8,6))\n",
    "\n",
    "x = np.linspace(0.0,1.0,21)\n",
    "width = (x[1:]-x[:-1])/2.0\n",
    "\n",
    "x = (x[1:]+x[:-1])/2.0\n",
    "y = np.array([29.8717, 24.6772, 13.4533,  8.31625,5.50283,3.69649, 2.68424, 1.86547,1.37743, 1.01513, 0.768237,0.569575,0.429478, 0.322682, 0.232538,0.17627,\n",
    "    0.124594, 0.0912927,0.0631585, 0.0269859])\n",
    "\n",
    "print len(x)\n",
    "#print x\n",
    "#print width\n",
    "\n",
    "#print len(width)\n",
    "print len(x)\n",
    "print len(y)\n",
    "xtheory = np.array([5.00E-02  , 6.00E-02,7.00E-02,8.00E-02,9.00E-02,1.00E-01,1.30E-01,    1.60E-01,2.00E-01,2.50E-01,3.00E-01,4.00E-01,5.00E-01,6.00E-01, 7.00E-01,8.00E-01,9.00E-01 ])  \n",
    "ytheory = np.array([2.00E+01,1.95E+01, 1.85E+01,1.72E+01,1.59E+01,1.46E+01,1.16E+01,9.16E+00,6.78E+00,4.74E+00,3.31E+00,1.69E+00,9.05E-01, 5.08E-01,2.92E-01,1.54E-01,6.64E-02])\n",
    "\n",
    "#plt.errorbar(x,y,xerr=width,fmt='o',ls='none',label='Pythia')\n",
    "plt.step(x,y,where='mid',label='Pythia')\n",
    "plt.errorbar(xtheory,ytheory,label='theory',linewidth=3,alpha=0.7)\n",
    "\n",
    "\n",
    "plt.yscale('log')\n",
    "plt.xscale('log')\n",
    "\n",
    "z_str = r'$z_{h} = |\\vec{p}_{\\mathrm{jet}} \\cdot \\vec{p}_{\\mathrm{hadron}}| \\left/ |\\vec{p}_{\\mathrm{jet}}|^2 \\right.$'\n",
    "\n",
    "plt.xlabel(z_str, fontsize=25)\n",
    "plt.ylabel(r'$1/\\sigma \\times d\\sigma/dz_h$ ', fontsize=25)\n",
    "plt.yticks(fontsize=20)\n",
    "plt.xticks(fontsize=20)\n",
    "plt.legend(fontsize=20,frameon=False)\n",
    "plt.xlim([0.05,1.1])\n",
    "#plt.title(r'$e+p,$~$10+275$ $\\mathrm{~GeV}$', fontsize=20)\n",
    "plt.text(0.06,.10, r'$15<p_{\\mathrm{T}}^{e} <20$  $\\mathrm{~GeV}$,', fontsize=20)\n",
    "plt.text(0.06,.05, r'$0.1<y<0.85$', fontsize=20)\n",
    "\n",
    "plt.savefig('Unpolarized_z.pdf', bbox_inches='tight')\n",
    "plt.savefig('Unpolarized_z.pdf', bbox_inches='tight')"
   ]
  },
  {
   "cell_type": "code",
   "execution_count": null,
   "metadata": {},
   "outputs": [],
   "source": [
    "rc('text', usetex=True)\n",
    "fig = plt.figure(figsize=(8,6))\n",
    "#xpythia = np.array([0.05, 0.15,0.25 ,0.35 , 0.45, 0.55 ,0.65,   0.75,0.85,0.95,  1.05,  1.15, 1.25,1.35,   1.45 , 1.55 ,1.65 ,1.75, 1.85 \n",
    "#           ,1.95, 2.05, 2.15 ,2.25, 2.35,  2.45,2.55,2.65 ,2.75  , 2.85 ,  2.95 ])\n",
    "\n",
    "xpythia = np.linspace(0.0,3.0,31)\n",
    "width = (xpythia[1:]-xpythia[:-1])/2.0\n",
    "xpythia = (xpythia[1:]+xpythia[:-1])/2.0\n",
    "\n",
    "\n",
    "ypythia = np.array([0.701346,  1.90308, 2.66816, 2.85936, 2.6139, 2.13275, 1.63781,  1.17331, 0.869865,\n",
    "           0.608905,  0.435507, 0.328998, 0.236844, 0.177992, 0.135504, 0.115695, 0.082106, 0.0677518,\n",
    "           0.0462205, 0.037608, 0.0275601, 0.0258376,  0.017225, 0.0117704,  0.00746419, 0.00861252,\n",
    "            0.00631585,   0.00516751,   0.00258376,    0.0017225])\n",
    "\n",
    "\n",
    "xtheory =  np.array([5.00E-02 , 1.00E-01, 2.00E-01,    3.00E-01 ,  4.00E-01 ,  5.00E-01 ,  6.00E-01, 7.00E-01,8.00E-01,9.00E-01 , 1.00E+00 ,\n",
    "            1.10E+00,  1.20E+00 ,  1.30E+00 ,  1.40E+00  , 1.50E+00 ])\n",
    "\n",
    "ytheory = np.array([5.59E-01, 1.08E+00, 1.94E+00, 2.42E+00, 2.51E+00,  2.30E+00,1.96E+00,1.53E+00,\n",
    "                    1.12E+00,  8.84E-01, 5.83E-01,  4.73E-01, 3.47E-01, 1.98E-01, 1.57E-01,  1.13E-01])\n",
    "\n",
    "\n",
    "jT_str = r'$j_T = |\\vec{p}_{\\mathrm{jet}} \\times \\vec{p}_{\\mathrm{hadron}}| \\left/ |\\vec{p}_{\\mathrm{jet}}| \\right \\mathrm{GeV}$'\n",
    "\n",
    "\n",
    "#plt.step(xpythia,ypythia,xerr=width,fmt='o',ls='none',label='Pythia')\n",
    "plt.step(xpythia,ypythia,where='mid',label='Pythia')\n",
    "\n",
    "plt.errorbar(xtheory,ytheory,label='theory',linewidth=3,alpha=0.7)\n",
    "plt.yticks(fontsize=20)\n",
    "plt.xticks(fontsize=20)\n",
    "plt.legend(fontsize=20,frameon=False)\n",
    "plt.text(1.20,2.0, r'$15<p_{\\mathrm{T}}^{e} <20$  $\\mathrm{~GeV}$', fontsize=20)\n",
    "plt.text(1.20,1.8, r'$0.1<y<0.85$', fontsize=20)\n",
    "plt.text(1.20,1.5, r'$0.1 < z_{h} < 0.5$' , fontsize=20)\n",
    "plt.xlabel(jT_str, fontsize=25)\n",
    "plt.ylabel(r'$1/\\sigma \\times d\\sigma/dj_T$ ', fontsize=23)\n",
    "#plt.yscale('log')\n",
    "plt.xlim([0.0,2.0])\n",
    "#plt.ylim([0.01,4])\n",
    "\n",
    "\n",
    "plt.savefig('Unpolarized_jt.pdf', bbox_inches='tight')\n",
    "plt.savefig('Unpolarized_jt.pdf', bbox_inches='tight')"
   ]
  },
  {
   "cell_type": "code",
   "execution_count": null,
   "metadata": {},
   "outputs": [],
   "source": []
  }
 ],
 "metadata": {
  "kernelspec": {
   "display_name": "Python 2",
   "language": "python",
   "name": "python2"
  },
  "language_info": {
   "codemirror_mode": {
    "name": "ipython",
    "version": 2
   },
   "file_extension": ".py",
   "mimetype": "text/x-python",
   "name": "python",
   "nbconvert_exporter": "python",
   "pygments_lexer": "ipython2",
   "version": "2.7.12"
  }
 },
 "nbformat": 4,
 "nbformat_minor": 2
}
