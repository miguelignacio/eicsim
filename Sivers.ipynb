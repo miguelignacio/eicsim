{
 "cells": [
  {
   "cell_type": "code",
   "execution_count": 6,
   "metadata": {},
   "outputs": [],
   "source": [
    "import time\n",
    "import ROOT\n",
    "import numpy as np\n",
    "import pandas as pd\n",
    "import root_pandas as rpd\n",
    "import matplotlib.pyplot as plt\n",
    "import matplotlib.ticker as mticker\n",
    "from matplotlib.colors import LogNorm\n",
    "from root_pandas import read_root\n",
    "\n",
    "from matplotlib import rc\n",
    "rc('text', usetex=True)"
   ]
  },
  {
   "cell_type": "code",
   "execution_count": 7,
   "metadata": {},
   "outputs": [],
   "source": [
    "def applyCut(inputDataframe, cut, text=None):\n",
    "    dataframe = inputDataframe\n",
    "    nbeforecut = dataframe.shape[0]\n",
    "    cutDataframe = dataframe.query(cut)\n",
    "    if text:\n",
    "        print text, cutDataframe.shape[0], ' fraction kept: %2.1f'%(100.0*float(cutDataframe.shape[0])/nbeforecut)\n",
    "    return cutDataframe"
   ]
  },
  {
   "cell_type": "code",
   "execution_count": 8,
   "metadata": {},
   "outputs": [],
   "source": [
    "def getData(inputFiles):\n",
    "    cols = []\n",
    "    scalar = []\n",
    "    scalar.append('evid')\n",
    "    scalar.append('xsec')\n",
    "    scalar.append('ntrials')    \n",
    "    scalar.append('x')\n",
    "    scalar.append('y')\n",
    "    scalar.append('Q2')\n",
    "    scalar.append('W2')\n",
    "    scalar.append('e_eta')\n",
    "    scalar.append('e_theta')\n",
    "    scalar.append('e_p')\n",
    "    scalar.append('e_pt')\n",
    "\n",
    "    scalar.append('quark_eta')\n",
    "    scalar.append('quark_theta')\n",
    "    scalar.append('quark_p')\n",
    "    scalar.append('quark_pt')\n",
    "    \n",
    "    cols.append('n_total')\n",
    "    cols.append('jet_eta')\n",
    "    cols.append('jet_theta')\n",
    "    cols.append('jet_p')\n",
    "    cols.append('jet_pt')\n",
    "    cols.append('dphi_e_jet')\n",
    "    cols.append('dR_q_jet')\n",
    "    \n",
    "    \n",
    "    lists = scalar\n",
    "    dataframes = []\n",
    "    for inputFilename in inputFiles:\n",
    "        start = time.time()\n",
    "        df = read_root(inputFilename, columns=lists+cols,flatten=cols)\n",
    "        dataframes.append(df)\n",
    "        end = time.time()\n",
    "        print '\\n', 'Processed', inputFilename, 'in',  '%2.1f'%(end-start), 'seconds'\n",
    "    return pd.concat([x for x in dataframes])"
   ]
  },
  {
   "cell_type": "code",
   "execution_count": 9,
   "metadata": {},
   "outputs": [],
   "source": [
    "#df = applyCut(df, 'e_pt>10 and e_pt<30', ' 10< e_pt<50')\n",
    "def applyCuts(df):\n",
    "    temp = df\n",
    "    temp = applyCut(temp, '0.1 < y < 0.85', '0.1 < y < 0.85')\n",
    "    temp = applyCut(temp, 'Q2>25', 'Q2>25')\n",
    "    #temp = applyCut(temp, '0.1 < x < 0.7', '0.1 < x < 0.7')\n",
    "    temp = applyCut(temp, 'dphi_e_jet > 2.74', 'dphi_e_jet>3.14159-0.4')\n",
    "    temp.eval('dphi = 3.14159-dphi_e_jet', inplace=True)\n",
    "\n",
    "    #df = applyCut(df, 'nconstituents>1', ' n>1')\n",
    "    return temp"
   ]
  },
  {
   "cell_type": "markdown",
   "metadata": {},
   "source": [
    "## Get data"
   ]
  },
  {
   "cell_type": "code",
   "execution_count": 19,
   "metadata": {},
   "outputs": [
    {
     "name": "stdout",
     "output_type": "stream",
     "text": [
      "\n",
      "Processed pytree_10_275GeV_25GeV2.root in 2.4 seconds\n",
      "xsec  1.7642578e-05  ntrials 217823\n",
      "accepted  217823\n",
      "0.1 < y < 0.85 125343  fraction kept: 57.5\n",
      "Q2>25 124218  fraction kept: 99.1\n",
      "dphi_e_jet>3.14159-0.4 52150  fraction kept: 42.0\n"
     ]
    }
   ],
   "source": [
    "df = getData(['pytree_10_275GeV_25GeV2.root'])\n",
    "#df = getData(['pytree_10_275GeV_25GeV2.root'])\n",
    "xsec = np.mean(df['xsec'])\n",
    "ntrials = max(df['ntrials'])\n",
    "accepted = df.shape[0]\n",
    "ntrials = accepted\n",
    "print 'xsec ' , xsec, ' ntrials', ntrials\n",
    "print 'accepted ', df.shape[0]\n",
    "df = applyCuts(df)\n"
   ]
  },
  {
   "cell_type": "markdown",
   "metadata": {},
   "source": [
    "## Plot cross-section"
   ]
  },
  {
   "cell_type": "code",
   "execution_count": 20,
   "metadata": {},
   "outputs": [
    {
     "name": "stdout",
     "output_type": "stream",
     "text": [
      "[2.19013654 2.66980635 3.25453039 3.96731699 4.83621358 5.89541039\n",
      " 7.18658576]\n"
     ]
    },
    {
     "data": {
      "image/png": "[encoded data removed]",
      "text/plain": [
       "<matplotlib.figure.Figure at 0x7f500bf4b4d0>"
      ]
     },
     "metadata": {
      "needs_background": "light"
     },
     "output_type": "display_data"
    }
   ],
   "source": [
    "fig = plt.figure(figsize=(9,6))\n",
    "\n",
    "#edges = np.logspace(0.69,1.6,11)\n",
    "\n",
    "edges=np.logspace(np.log10(10),np.log10(40),nbins)\n",
    "\n",
    "binwidth = (edges [1:] -  edges[:-1])\n",
    "print binwidth\n",
    "\n",
    "y, x  = np.histogram(df['e_pt'],bins=edges)\n",
    "x = (x[1:]+x[:-1])/2\n",
    "\n",
    "y = y*100*xsec*1e12/ntrials\n",
    "erry = np.sqrt(y)\n",
    "y = y/binwidth\n",
    "erry = erry/binwidth\n",
    "\n",
    "plt.errorbar(x,y=y , xerr=binwidth/2.0,yerr=erry, fmt='o',ls='none')\n",
    "y, x  = np.histogram(df['jet_pt'],edges)\n",
    "x = (x[1:]+x[:-1])/2\n",
    "y = y*100*xsec*1e12/ntrials\n",
    "erry = np.sqrt(y)\n",
    "\n",
    "y = y/binwidth\n",
    "erry = erry/binwidth\n",
    "\n",
    "plt.errorbar(x,y=y , xerr=binwidth/2.0, yerr=erry, fmt='o',ls='none')\n",
    "\n",
    "plt.ylabel('dsigma x 10 fb-1')\n",
    "plt.yscale('log')\n",
    "plt.show()\n"
   ]
  },
  {
   "cell_type": "markdown",
   "metadata": {},
   "source": [
    "## Factors for statistical projection"
   ]
  },
  {
   "cell_type": "code",
   "execution_count": 21,
   "metadata": {},
   "outputs": [],
   "source": [
    "dilution_factor =0.7 # proton polarization for single-spin asymmetries ()\n",
    "efficiency = 0.5 #efficiency\n",
    "penalty = 1.0 #sqrt(2) coming from separating Sivers v Collins v something else\n",
    "lumi = 100 # in units of fb-1. 100 is expected in a year? (check)\n",
    "\n",
    "label = \"$e+p^{\\uparrow}$, 10+100 GeV, 100 fb$^{-1}$ \\n $0.1<y<0.85$, $Q^{2}>$25 GeV$^{2}$\""
   ]
  },
  {
   "cell_type": "markdown",
   "metadata": {},
   "source": [
    "## Sivers asymmetry (phi) for various electron pT"
   ]
  },
  {
   "cell_type": "code",
   "execution_count": 22,
   "metadata": {
    "scrolled": true
   },
   "outputs": [
    {
     "name": "stdout",
     "output_type": "stream",
     "text": [
      "6.8500195  mean pt\n",
      "0.027369706\n",
      "70.41933  mean Q2\n",
      " \n",
      "9.887229  mean pt\n",
      "0.056295145\n",
      "146.30745  mean Q2\n",
      " \n",
      "14.683161  mean pt\n",
      "0.12297524\n",
      "329.56577  mean Q2\n",
      " \n"
     ]
    },
    {
     "data": {
      "image/png": "[encoded data removed]",
      "text/plain": [
       "<matplotlib.figure.Figure at 0x7f501068ad90>"
      ]
     },
     "metadata": {
      "needs_background": "light"
     },
     "output_type": "display_data"
    }
   ],
   "source": [
    "def fake_A(x,slope=0.05):\n",
    "    return slope*np.ones(len(x))\n",
    "\n",
    "fig = plt.figure(figsize=(8,6))\n",
    "asymmetry = [0.01,0.02,0.04,0.06]\n",
    "colores = ['black','blue','red','purple']\n",
    "for counter,edges in enumerate([(6.0,8.0), (9,11),(13.0,17.0)]):\n",
    "    maxdphi = 0.15\n",
    "    df_cut = df.query('e_pt > %2.2f and e_pt<%2.2f'%(edges[0],edges[1]))\n",
    "    print df_cut['e_pt'].mean(), ' mean pt'\n",
    "    mean_x = df_cut['x'].mean()\n",
    "    print mean_x\n",
    "    \n",
    "    print df_cut['Q2'].mean(), ' mean Q2'\n",
    "\n",
    "    y, x  = np.histogram(df_cut['dphi'],bins=7,range=(0.0,maxdphi))\n",
    "    x = (x[1:]+x[:-1])/2\n",
    "    y = y*lumi*xsec*1e12/ntrials ##total number of counts\n",
    "    y = y*efficiency # take efficiency hit\n",
    "    erry = 1/(dilution_factor*np.sqrt(y)) #follow standard formula for asymmetry uncertainty\n",
    "    erry= penalty*erry #take sqrt(2) because of interference with other modulations\n",
    "    plt.errorbar(x,y=fake_A(x,asymmetry[counter]) , yerr=erry, fmt='o',ls='none', color=colores[counter],label='%2.0f$<p_{T}^{e}<$%2.0f GeV, $<x>$ = %2.2f'%(edges[0],edges[1],mean_x))\n",
    "    print ' '\n",
    "####\n",
    "plt.legend(frameon=False,loc='best',ncol=2,fontsize=16)\n",
    "plt.ylim([0.0,0.09])\n",
    "#plt.ylim([-0.15,0.15])\n",
    "\n",
    "plt.xlim([0.0,0.15])\n",
    "\n",
    "plt.text(0.005, 0.065, label, fontsize=18)\n",
    "plt.legend(loc='best', fontsize=16,frameon=False)\n",
    "plt.ylabel('$A_{UT}$',fontsize=18)\n",
    "plt.xlabel('$\\Delta\\phi = \\pi-|\\phi_{e}-\\phi_{jet}|$',fontsize=20)\n",
    "plt.savefig('AUT_Sivers.png', bbox_inches='tight')\n",
    "plt.savefig('AUT_Sivers.pdf', bbox_inches='tight')"
   ]
  },
  {
   "cell_type": "markdown",
   "metadata": {},
   "source": [
    "## Sivers vs x "
   ]
  },
  {
   "cell_type": "code",
   "execution_count": 23,
   "metadata": {},
   "outputs": [
    {
     "name": "stdout",
     "output_type": "stream",
     "text": [
      "10.567941  mean pt\n",
      "0.068172015  mean x\n",
      "171.53067  mean Q2\n",
      " \n",
      "16.661135  mean pt\n",
      "0.17099918  mean x\n",
      "418.76172  mean Q2\n",
      " \n",
      "20.115715  mean pt\n",
      "0.24019134  mean x\n",
      "632.5541  mean Q2\n",
      " \n",
      "25.07397  mean pt\n",
      "0.39864126  mean x\n",
      "991.29846  mean Q2\n",
      " \n"
     ]
    },
    {
     "data": {
      "image/png": "[encoded data removed]",
      "text/plain": [
       "<matplotlib.figure.Figure at 0x7f501068aad0>"
      ]
     },
     "metadata": {
      "needs_background": "light"
     },
     "output_type": "display_data"
    }
   ],
   "source": [
    "fig = plt.figure(figsize=(8,6))\n",
    "asymmetry = [0.01,0.02,0.04,0.07]\n",
    "colores = ['black','blue','red','purple']\n",
    "for counter,edges in enumerate([(0.05,0.1), (0.15,0.2),(0.2,0.3),(0.3,0.8)]):\n",
    "    maxdphi = 0.15\n",
    "    df_cut = df.query('x > %2.2f and x<%2.2f'%(edges[0],edges[1]))\n",
    "    print df_cut['e_pt'].mean(), ' mean pt'\n",
    "    print df_cut['x'].mean(), ' mean x'\n",
    "    print df_cut['Q2'].mean(), ' mean Q2'\n",
    "\n",
    "    y, x  = np.histogram(df_cut['dphi'],bins=5,range=(0.0,maxdphi))\n",
    "    x = (x[1:]+x[:-1])/2\n",
    "    y = y*lumi*xsec*1e12/ntrials ##total number of counts\n",
    "    y = y*efficiency # take efficiency hit\n",
    "    erry = 1/(dilution_factor*np.sqrt(y)) #follow standard formula for asymmetry uncertainty\n",
    "    erry= penalty*erry #take sqrt(2) because of interference with other modulations\n",
    "    plt.errorbar(x,y=fake_A(x,asymmetry[counter]) , yerr=erry, fmt='o',ls='none',color=colores[counter],label='%2.2f$<x<$%2.2f'%(edges[0],edges[1]))\n",
    "    print ' '\n",
    "####\n",
    "plt.ylim([0.0,0.12])\n",
    "plt.xlim([0.0,0.15])\n",
    "\n",
    "plt.text(0.01, 0.1, '$e+p^{\\uparrow}$, 10+275 GeV, 100 fb$^{-1}$ \\n $0.1<y<0.85$, $Q^{2}>$25 GeV$^{2}$', fontsize=18)\n",
    "plt.legend(loc='best', fontsize=16,frameon=False,ncol=1)\n",
    "plt.ylabel('$A_{UT}$',fontsize=18)\n",
    "plt.xlabel('$\\Delta\\phi = \\pi-|\\phi_{e}-\\phi_{jet}|$',fontsize=20)\n",
    "plt.savefig('AUT_Sivers_xbins.png', bbox_inches='tight')\n",
    "plt.savefig('AUT_Sivers_xbins.pdf', bbox_inches='tight')"
   ]
  },
  {
   "cell_type": "markdown",
   "metadata": {},
   "source": [
    "## Sivers(x) for various Q2 bins"
   ]
  },
  {
   "cell_type": "code",
   "execution_count": 24,
   "metadata": {},
   "outputs": [
    {
     "name": "stdout",
     "output_type": "stream",
     "text": [
      "6.594046  mean pt\n",
      "0.030289467  mean x\n",
      "85.491776  mean Q2\n"
     ]
    },
    {
     "name": "stderr",
     "output_type": "stream",
     "text": [
      "/usr/local/lib/python2.7/dist-packages/matplotlib/axes/_axes.py:545: UserWarning: No labelled objects found. Use label='...' kwarg on individual plots.\n",
      "  warnings.warn(\"No labelled objects found. \"\n"
     ]
    },
    {
     "data": {
      "image/png": "[encoded data removed]",
      "text/plain": [
       "<matplotlib.figure.Figure at 0x7f5010709750>"
      ]
     },
     "metadata": {
      "needs_background": "light"
     },
     "output_type": "display_data"
    }
   ],
   "source": [
    "fig = plt.figure(figsize=(8,6))\n",
    "asymmetry = [0.025]\n",
    "colores = ['black','blue','red','purple']\n",
    "\n",
    "\n",
    "for counter,edges in enumerate([(25,200000)]):\n",
    "    df_cut = df.query('Q2 > %2.2f and Q2<%2.2f'%(edges[0],edges[1]))\n",
    "    print df_cut['e_pt'].mean(), ' mean pt'\n",
    "    print df_cut['x'].mean(), ' mean x'\n",
    "    print df_cut['Q2'].mean(), ' mean Q2'\n",
    "    y, x  = np.histogram(df_cut['x'],bins=np.logspace(-2,0.0,9))\n",
    "    x = (x[1:]+x[:-1])/2\n",
    "    y = y*lumi*xsec*1e12/ntrials ##total number of counts\n",
    "    y = y*efficiency # take efficiency hit\n",
    "    erry = 1/(dilution_factor*np.sqrt(y)) #follow standard formula for asymmetry uncertainty\n",
    "    erry= penalty*erry #take sqrt(2) because of interference with other modulations\n",
    "    plt.errorbar(x,y=fake_A(x,asymmetry[counter]) , yerr=erry, fmt='o',ls='none',color=colores[counter])\n",
    "    #plt.errorbar(x,y,label='%2.2f$<x<$%2.2f'%(edges[0],edges[1]))\n",
    "####\n",
    "plt.ylim([0.0,0.05])\n",
    "plt.xlim([0.01,1.0])\n",
    "#plt.yscale('log')\n",
    "\n",
    "plt.xscale('log')\n",
    "plt.text(0.012, 0.04, '$e+p^{\\uparrow}$, 10+275 GeV, 100 fb$^{-1}$ \\n $0.1<y<0.85$, $Q^{2}>$25 GeV$^{2}$', fontsize=18)\n",
    "plt.legend(loc='best', fontsize=16,frameon=False,ncol=1)\n",
    "plt.ylabel('$A_{UT}$',fontsize=18)\n",
    "plt.xlabel('$x$',fontsize=20)\n",
    "plt.savefig('AUT_Sivers_xdependence.png', bbox_inches='tight')\n",
    "plt.savefig('AUT_Sivers_xdependence.pdf', bbox_inches='tight')"
   ]
  },
  {
   "cell_type": "markdown",
   "metadata": {},
   "source": [
    "## Distributions"
   ]
  },
  {
   "cell_type": "code",
   "execution_count": 25,
   "metadata": {},
   "outputs": [
    {
     "name": "stdout",
     "output_type": "stream",
     "text": [
      "6.8500195  mean pt\n",
      "9.887229  mean pt\n",
      "14.683161  mean pt\n"
     ]
    },
    {
     "data": {
      "image/png": "[encoded data removed]",
      "text/plain": [
       "<matplotlib.figure.Figure at 0x7f50106badd0>"
      ]
     },
     "metadata": {
      "needs_background": "light"
     },
     "output_type": "display_data"
    }
   ],
   "source": [
    "\n",
    "fig = plt.figure(figsize=(8,6))\n",
    "asymmetry = [0.01,0.02,0.04]\n",
    "colores = ['black','blue','red']\n",
    "for counter,edges in enumerate([(6.0,8.0), (9,11),(13.0,17.0)]):\n",
    "    maxdphi = np.pi\n",
    "    df_cut = df.query('e_pt > %2.2f and e_pt<%2.2f'%(edges[0],edges[1]))\n",
    "    print df_cut['e_pt'].mean(), ' mean pt'\n",
    "    y, x  = np.histogram(df_cut['dphi'],bins=7,range=(0.0,0.4))\n",
    "    x = (x[1:]+x[:-1])/2\n",
    "    y = y*lumi*xsec*1e12/ntrials\n",
    "    erry = np.sqrt(y)\n",
    "    plt.errorbar(x,y ,fmt='o',ls='none',color=colores[counter],label='%2.0f$<p_{T}^{e}<$%2.0f'%(edges[0],edges[1]))\n",
    "\n",
    "####\n",
    "plt.legend(frameon=False,loc='best')\n",
    "#plt.ylim([0.0,0.07])\n",
    "\n",
    "#plt.text(0.01, 0.05, '$e+p^{\\uparrow}$, 18+100 GeV \\n $0.1<y<0.85$, $Q^{2}>$25 GeV$^{2}$\\n 100 fb$^{-1}$', fontsize=18)\n",
    "plt.legend(loc='best', fontsize=20,frameon=False)\n",
    "plt.ylabel('$d\\sigma $x 100 fb$^{-1}$',fontsize=18)\n",
    "plt.xlabel('$\\Delta\\phi = \\pi-|\\phi_{e}-\\phi_{jet}|$',fontsize=20)\n",
    "plt.savefig('AUT_Sivers_distributions.png', bbox_inches='tight')\n",
    "plt.savefig('AUT_Sivers_distributions.pdf', bbox_inches='tight')"
   ]
  },
  {
   "cell_type": "code",
   "execution_count": null,
   "metadata": {},
   "outputs": [],
   "source": []
  }
 ],
 "metadata": {
  "kernelspec": {
   "display_name": "Python 2",
   "language": "python",
   "name": "python2"
  },
  "language_info": {
   "codemirror_mode": {
    "name": "ipython",
    "version": 2
   },
   "file_extension": ".py",
   "mimetype": "text/x-python",
   "name": "python",
   "nbconvert_exporter": "python",
   "pygments_lexer": "ipython2",
   "version": "2.7.12"
  }
 },
 "nbformat": 4,
 "nbformat_minor": 2
}
